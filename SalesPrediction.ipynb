{
  "nbformat": 4,
  "nbformat_minor": 0,
  "metadata": {
    "colab": {
      "provenance": []
    },
    "kernelspec": {
      "name": "python3",
      "display_name": "Python 3"
    },
    "language_info": {
      "name": "python"
    }
  },
  "cells": [
    {
      "cell_type": "markdown",
      "source": [
        "## **Data Collection**\n",
        "\n"
      ],
      "metadata": {
        "id": "dASp5gZ5oDHn"
      }
    },
    {
      "cell_type": "markdown",
      "source": [
        "**Loading Data**"
      ],
      "metadata": {
        "id": "m9K2MiI1M_DT"
      }
    },
    {
      "cell_type": "code",
      "execution_count": 1,
      "metadata": {
        "id": "mkPYqyK6FFLU"
      },
      "outputs": [],
      "source": [
        "import pandas as pd"
      ]
    },
    {
      "cell_type": "code",
      "source": [
        "data = pd.read_csv('Advertising.csv')"
      ],
      "metadata": {
        "id": "bXTPv102H0VB"
      },
      "execution_count": 2,
      "outputs": []
    },
    {
      "cell_type": "code",
      "source": [
        "data.head()"
      ],
      "metadata": {
        "colab": {
          "base_uri": "https://localhost:8080/",
          "height": 206
        },
        "id": "stAIvP4ZID63",
        "outputId": "d5dc762a-e70a-4d73-f64f-c68ac562b607"
      },
      "execution_count": 3,
      "outputs": [
        {
          "output_type": "execute_result",
          "data": {
            "text/plain": [
              "   Unnamed: 0     TV  Radio  Newspaper  Sales\n",
              "0           1  230.1   37.8       69.2   22.1\n",
              "1           2   44.5   39.3       45.1   10.4\n",
              "2           3   17.2   45.9       69.3    9.3\n",
              "3           4  151.5   41.3       58.5   18.5\n",
              "4           5  180.8   10.8       58.4   12.9"
            ],
            "text/html": [
              "\n",
              "  <div id=\"df-517efec2-bbac-4584-883c-bb1077d15bab\" class=\"colab-df-container\">\n",
              "    <div>\n",
              "<style scoped>\n",
              "    .dataframe tbody tr th:only-of-type {\n",
              "        vertical-align: middle;\n",
              "    }\n",
              "\n",
              "    .dataframe tbody tr th {\n",
              "        vertical-align: top;\n",
              "    }\n",
              "\n",
              "    .dataframe thead th {\n",
              "        text-align: right;\n",
              "    }\n",
              "</style>\n",
              "<table border=\"1\" class=\"dataframe\">\n",
              "  <thead>\n",
              "    <tr style=\"text-align: right;\">\n",
              "      <th></th>\n",
              "      <th>Unnamed: 0</th>\n",
              "      <th>TV</th>\n",
              "      <th>Radio</th>\n",
              "      <th>Newspaper</th>\n",
              "      <th>Sales</th>\n",
              "    </tr>\n",
              "  </thead>\n",
              "  <tbody>\n",
              "    <tr>\n",
              "      <th>0</th>\n",
              "      <td>1</td>\n",
              "      <td>230.1</td>\n",
              "      <td>37.8</td>\n",
              "      <td>69.2</td>\n",
              "      <td>22.1</td>\n",
              "    </tr>\n",
              "    <tr>\n",
              "      <th>1</th>\n",
              "      <td>2</td>\n",
              "      <td>44.5</td>\n",
              "      <td>39.3</td>\n",
              "      <td>45.1</td>\n",
              "      <td>10.4</td>\n",
              "    </tr>\n",
              "    <tr>\n",
              "      <th>2</th>\n",
              "      <td>3</td>\n",
              "      <td>17.2</td>\n",
              "      <td>45.9</td>\n",
              "      <td>69.3</td>\n",
              "      <td>9.3</td>\n",
              "    </tr>\n",
              "    <tr>\n",
              "      <th>3</th>\n",
              "      <td>4</td>\n",
              "      <td>151.5</td>\n",
              "      <td>41.3</td>\n",
              "      <td>58.5</td>\n",
              "      <td>18.5</td>\n",
              "    </tr>\n",
              "    <tr>\n",
              "      <th>4</th>\n",
              "      <td>5</td>\n",
              "      <td>180.8</td>\n",
              "      <td>10.8</td>\n",
              "      <td>58.4</td>\n",
              "      <td>12.9</td>\n",
              "    </tr>\n",
              "  </tbody>\n",
              "</table>\n",
              "</div>\n",
              "    <div class=\"colab-df-buttons\">\n",
              "\n",
              "  <div class=\"colab-df-container\">\n",
              "    <button class=\"colab-df-convert\" onclick=\"convertToInteractive('df-517efec2-bbac-4584-883c-bb1077d15bab')\"\n",
              "            title=\"Convert this dataframe to an interactive table.\"\n",
              "            style=\"display:none;\">\n",
              "\n",
              "  <svg xmlns=\"http://www.w3.org/2000/svg\" height=\"24px\" viewBox=\"0 -960 960 960\">\n",
              "    <path d=\"M120-120v-720h720v720H120Zm60-500h600v-160H180v160Zm220 220h160v-160H400v160Zm0 220h160v-160H400v160ZM180-400h160v-160H180v160Zm440 0h160v-160H620v160ZM180-180h160v-160H180v160Zm440 0h160v-160H620v160Z\"/>\n",
              "  </svg>\n",
              "    </button>\n",
              "\n",
              "  <style>\n",
              "    .colab-df-container {\n",
              "      display:flex;\n",
              "      gap: 12px;\n",
              "    }\n",
              "\n",
              "    .colab-df-convert {\n",
              "      background-color: #E8F0FE;\n",
              "      border: none;\n",
              "      border-radius: 50%;\n",
              "      cursor: pointer;\n",
              "      display: none;\n",
              "      fill: #1967D2;\n",
              "      height: 32px;\n",
              "      padding: 0 0 0 0;\n",
              "      width: 32px;\n",
              "    }\n",
              "\n",
              "    .colab-df-convert:hover {\n",
              "      background-color: #E2EBFA;\n",
              "      box-shadow: 0px 1px 2px rgba(60, 64, 67, 0.3), 0px 1px 3px 1px rgba(60, 64, 67, 0.15);\n",
              "      fill: #174EA6;\n",
              "    }\n",
              "\n",
              "    .colab-df-buttons div {\n",
              "      margin-bottom: 4px;\n",
              "    }\n",
              "\n",
              "    [theme=dark] .colab-df-convert {\n",
              "      background-color: #3B4455;\n",
              "      fill: #D2E3FC;\n",
              "    }\n",
              "\n",
              "    [theme=dark] .colab-df-convert:hover {\n",
              "      background-color: #434B5C;\n",
              "      box-shadow: 0px 1px 3px 1px rgba(0, 0, 0, 0.15);\n",
              "      filter: drop-shadow(0px 1px 2px rgba(0, 0, 0, 0.3));\n",
              "      fill: #FFFFFF;\n",
              "    }\n",
              "  </style>\n",
              "\n",
              "    <script>\n",
              "      const buttonEl =\n",
              "        document.querySelector('#df-517efec2-bbac-4584-883c-bb1077d15bab button.colab-df-convert');\n",
              "      buttonEl.style.display =\n",
              "        google.colab.kernel.accessAllowed ? 'block' : 'none';\n",
              "\n",
              "      async function convertToInteractive(key) {\n",
              "        const element = document.querySelector('#df-517efec2-bbac-4584-883c-bb1077d15bab');\n",
              "        const dataTable =\n",
              "          await google.colab.kernel.invokeFunction('convertToInteractive',\n",
              "                                                    [key], {});\n",
              "        if (!dataTable) return;\n",
              "\n",
              "        const docLinkHtml = 'Like what you see? Visit the ' +\n",
              "          '<a target=\"_blank\" href=https://colab.research.google.com/notebooks/data_table.ipynb>data table notebook</a>'\n",
              "          + ' to learn more about interactive tables.';\n",
              "        element.innerHTML = '';\n",
              "        dataTable['output_type'] = 'display_data';\n",
              "        await google.colab.output.renderOutput(dataTable, element);\n",
              "        const docLink = document.createElement('div');\n",
              "        docLink.innerHTML = docLinkHtml;\n",
              "        element.appendChild(docLink);\n",
              "      }\n",
              "    </script>\n",
              "  </div>\n",
              "\n",
              "\n",
              "<div id=\"df-a20b63b8-fb09-45a7-a388-1ce42d5bfec4\">\n",
              "  <button class=\"colab-df-quickchart\" onclick=\"quickchart('df-a20b63b8-fb09-45a7-a388-1ce42d5bfec4')\"\n",
              "            title=\"Suggest charts\"\n",
              "            style=\"display:none;\">\n",
              "\n",
              "<svg xmlns=\"http://www.w3.org/2000/svg\" height=\"24px\"viewBox=\"0 0 24 24\"\n",
              "     width=\"24px\">\n",
              "    <g>\n",
              "        <path d=\"M19 3H5c-1.1 0-2 .9-2 2v14c0 1.1.9 2 2 2h14c1.1 0 2-.9 2-2V5c0-1.1-.9-2-2-2zM9 17H7v-7h2v7zm4 0h-2V7h2v10zm4 0h-2v-4h2v4z\"/>\n",
              "    </g>\n",
              "</svg>\n",
              "  </button>\n",
              "\n",
              "<style>\n",
              "  .colab-df-quickchart {\n",
              "      --bg-color: #E8F0FE;\n",
              "      --fill-color: #1967D2;\n",
              "      --hover-bg-color: #E2EBFA;\n",
              "      --hover-fill-color: #174EA6;\n",
              "      --disabled-fill-color: #AAA;\n",
              "      --disabled-bg-color: #DDD;\n",
              "  }\n",
              "\n",
              "  [theme=dark] .colab-df-quickchart {\n",
              "      --bg-color: #3B4455;\n",
              "      --fill-color: #D2E3FC;\n",
              "      --hover-bg-color: #434B5C;\n",
              "      --hover-fill-color: #FFFFFF;\n",
              "      --disabled-bg-color: #3B4455;\n",
              "      --disabled-fill-color: #666;\n",
              "  }\n",
              "\n",
              "  .colab-df-quickchart {\n",
              "    background-color: var(--bg-color);\n",
              "    border: none;\n",
              "    border-radius: 50%;\n",
              "    cursor: pointer;\n",
              "    display: none;\n",
              "    fill: var(--fill-color);\n",
              "    height: 32px;\n",
              "    padding: 0;\n",
              "    width: 32px;\n",
              "  }\n",
              "\n",
              "  .colab-df-quickchart:hover {\n",
              "    background-color: var(--hover-bg-color);\n",
              "    box-shadow: 0 1px 2px rgba(60, 64, 67, 0.3), 0 1px 3px 1px rgba(60, 64, 67, 0.15);\n",
              "    fill: var(--button-hover-fill-color);\n",
              "  }\n",
              "\n",
              "  .colab-df-quickchart-complete:disabled,\n",
              "  .colab-df-quickchart-complete:disabled:hover {\n",
              "    background-color: var(--disabled-bg-color);\n",
              "    fill: var(--disabled-fill-color);\n",
              "    box-shadow: none;\n",
              "  }\n",
              "\n",
              "  .colab-df-spinner {\n",
              "    border: 2px solid var(--fill-color);\n",
              "    border-color: transparent;\n",
              "    border-bottom-color: var(--fill-color);\n",
              "    animation:\n",
              "      spin 1s steps(1) infinite;\n",
              "  }\n",
              "\n",
              "  @keyframes spin {\n",
              "    0% {\n",
              "      border-color: transparent;\n",
              "      border-bottom-color: var(--fill-color);\n",
              "      border-left-color: var(--fill-color);\n",
              "    }\n",
              "    20% {\n",
              "      border-color: transparent;\n",
              "      border-left-color: var(--fill-color);\n",
              "      border-top-color: var(--fill-color);\n",
              "    }\n",
              "    30% {\n",
              "      border-color: transparent;\n",
              "      border-left-color: var(--fill-color);\n",
              "      border-top-color: var(--fill-color);\n",
              "      border-right-color: var(--fill-color);\n",
              "    }\n",
              "    40% {\n",
              "      border-color: transparent;\n",
              "      border-right-color: var(--fill-color);\n",
              "      border-top-color: var(--fill-color);\n",
              "    }\n",
              "    60% {\n",
              "      border-color: transparent;\n",
              "      border-right-color: var(--fill-color);\n",
              "    }\n",
              "    80% {\n",
              "      border-color: transparent;\n",
              "      border-right-color: var(--fill-color);\n",
              "      border-bottom-color: var(--fill-color);\n",
              "    }\n",
              "    90% {\n",
              "      border-color: transparent;\n",
              "      border-bottom-color: var(--fill-color);\n",
              "    }\n",
              "  }\n",
              "</style>\n",
              "\n",
              "  <script>\n",
              "    async function quickchart(key) {\n",
              "      const quickchartButtonEl =\n",
              "        document.querySelector('#' + key + ' button');\n",
              "      quickchartButtonEl.disabled = true;  // To prevent multiple clicks.\n",
              "      quickchartButtonEl.classList.add('colab-df-spinner');\n",
              "      try {\n",
              "        const charts = await google.colab.kernel.invokeFunction(\n",
              "            'suggestCharts', [key], {});\n",
              "      } catch (error) {\n",
              "        console.error('Error during call to suggestCharts:', error);\n",
              "      }\n",
              "      quickchartButtonEl.classList.remove('colab-df-spinner');\n",
              "      quickchartButtonEl.classList.add('colab-df-quickchart-complete');\n",
              "    }\n",
              "    (() => {\n",
              "      let quickchartButtonEl =\n",
              "        document.querySelector('#df-a20b63b8-fb09-45a7-a388-1ce42d5bfec4 button');\n",
              "      quickchartButtonEl.style.display =\n",
              "        google.colab.kernel.accessAllowed ? 'block' : 'none';\n",
              "    })();\n",
              "  </script>\n",
              "</div>\n",
              "\n",
              "    </div>\n",
              "  </div>\n"
            ],
            "application/vnd.google.colaboratory.intrinsic+json": {
              "type": "dataframe",
              "variable_name": "data",
              "summary": "{\n  \"name\": \"data\",\n  \"rows\": 200,\n  \"fields\": [\n    {\n      \"column\": \"Unnamed: 0\",\n      \"properties\": {\n        \"dtype\": \"number\",\n        \"std\": 57,\n        \"min\": 1,\n        \"max\": 200,\n        \"num_unique_values\": 200,\n        \"samples\": [\n          96,\n          16,\n          31\n        ],\n        \"semantic_type\": \"\",\n        \"description\": \"\"\n      }\n    },\n    {\n      \"column\": \"TV\",\n      \"properties\": {\n        \"dtype\": \"number\",\n        \"std\": 85.85423631490808,\n        \"min\": 0.7,\n        \"max\": 296.4,\n        \"num_unique_values\": 190,\n        \"samples\": [\n          287.6,\n          286.0,\n          78.2\n        ],\n        \"semantic_type\": \"\",\n        \"description\": \"\"\n      }\n    },\n    {\n      \"column\": \"Radio\",\n      \"properties\": {\n        \"dtype\": \"number\",\n        \"std\": 14.846809176168724,\n        \"min\": 0.0,\n        \"max\": 49.6,\n        \"num_unique_values\": 167,\n        \"samples\": [\n          8.2,\n          36.9,\n          44.5\n        ],\n        \"semantic_type\": \"\",\n        \"description\": \"\"\n      }\n    },\n    {\n      \"column\": \"Newspaper\",\n      \"properties\": {\n        \"dtype\": \"number\",\n        \"std\": 21.778620838522826,\n        \"min\": 0.3,\n        \"max\": 114.0,\n        \"num_unique_values\": 172,\n        \"samples\": [\n          22.3,\n          5.7,\n          17.0\n        ],\n        \"semantic_type\": \"\",\n        \"description\": \"\"\n      }\n    },\n    {\n      \"column\": \"Sales\",\n      \"properties\": {\n        \"dtype\": \"number\",\n        \"std\": 5.217456565710478,\n        \"min\": 1.6,\n        \"max\": 27.0,\n        \"num_unique_values\": 121,\n        \"samples\": [\n          11.4,\n          21.2,\n          12.9\n        ],\n        \"semantic_type\": \"\",\n        \"description\": \"\"\n      }\n    }\n  ]\n}"
            }
          },
          "metadata": {},
          "execution_count": 3
        }
      ]
    },
    {
      "cell_type": "code",
      "source": [
        "data.info()"
      ],
      "metadata": {
        "colab": {
          "base_uri": "https://localhost:8080/"
        },
        "id": "wzApfe-CIuBX",
        "outputId": "6cc77de2-0a82-490d-92ae-b870d13074a3"
      },
      "execution_count": 4,
      "outputs": [
        {
          "output_type": "stream",
          "name": "stdout",
          "text": [
            "<class 'pandas.core.frame.DataFrame'>\n",
            "RangeIndex: 200 entries, 0 to 199\n",
            "Data columns (total 5 columns):\n",
            " #   Column      Non-Null Count  Dtype  \n",
            "---  ------      --------------  -----  \n",
            " 0   Unnamed: 0  200 non-null    int64  \n",
            " 1   TV          200 non-null    float64\n",
            " 2   Radio       200 non-null    float64\n",
            " 3   Newspaper   200 non-null    float64\n",
            " 4   Sales       200 non-null    float64\n",
            "dtypes: float64(4), int64(1)\n",
            "memory usage: 7.9 KB\n"
          ]
        }
      ]
    },
    {
      "cell_type": "markdown",
      "source": [
        "## **DATA PREPROCESSING**\n",
        "\n"
      ],
      "metadata": {
        "id": "QHFMU0IBNFQ7"
      }
    },
    {
      "cell_type": "markdown",
      "source": [
        "**Data Cleaning**"
      ],
      "metadata": {
        "id": "5eDD8pIgMLZr"
      }
    },
    {
      "cell_type": "code",
      "source": [
        "data.duplicated().sum()"
      ],
      "metadata": {
        "colab": {
          "base_uri": "https://localhost:8080/"
        },
        "id": "qx7vwH0ONg27",
        "outputId": "5435667e-875b-4c14-acfb-d2e49183cd92"
      },
      "execution_count": 5,
      "outputs": [
        {
          "output_type": "execute_result",
          "data": {
            "text/plain": [
              "0"
            ]
          },
          "metadata": {},
          "execution_count": 5
        }
      ]
    },
    {
      "cell_type": "code",
      "source": [
        "data.isnull()"
      ],
      "metadata": {
        "colab": {
          "base_uri": "https://localhost:8080/",
          "height": 423
        },
        "id": "vmZMeT6YIF11",
        "outputId": "227f2d75-d491-4b6a-b798-895c31131c87"
      },
      "execution_count": 6,
      "outputs": [
        {
          "output_type": "execute_result",
          "data": {
            "text/plain": [
              "     Unnamed: 0     TV  Radio  Newspaper  Sales\n",
              "0         False  False  False      False  False\n",
              "1         False  False  False      False  False\n",
              "2         False  False  False      False  False\n",
              "3         False  False  False      False  False\n",
              "4         False  False  False      False  False\n",
              "..          ...    ...    ...        ...    ...\n",
              "195       False  False  False      False  False\n",
              "196       False  False  False      False  False\n",
              "197       False  False  False      False  False\n",
              "198       False  False  False      False  False\n",
              "199       False  False  False      False  False\n",
              "\n",
              "[200 rows x 5 columns]"
            ],
            "text/html": [
              "\n",
              "  <div id=\"df-55843dc9-3e80-446a-9753-22e2965bf635\" class=\"colab-df-container\">\n",
              "    <div>\n",
              "<style scoped>\n",
              "    .dataframe tbody tr th:only-of-type {\n",
              "        vertical-align: middle;\n",
              "    }\n",
              "\n",
              "    .dataframe tbody tr th {\n",
              "        vertical-align: top;\n",
              "    }\n",
              "\n",
              "    .dataframe thead th {\n",
              "        text-align: right;\n",
              "    }\n",
              "</style>\n",
              "<table border=\"1\" class=\"dataframe\">\n",
              "  <thead>\n",
              "    <tr style=\"text-align: right;\">\n",
              "      <th></th>\n",
              "      <th>Unnamed: 0</th>\n",
              "      <th>TV</th>\n",
              "      <th>Radio</th>\n",
              "      <th>Newspaper</th>\n",
              "      <th>Sales</th>\n",
              "    </tr>\n",
              "  </thead>\n",
              "  <tbody>\n",
              "    <tr>\n",
              "      <th>0</th>\n",
              "      <td>False</td>\n",
              "      <td>False</td>\n",
              "      <td>False</td>\n",
              "      <td>False</td>\n",
              "      <td>False</td>\n",
              "    </tr>\n",
              "    <tr>\n",
              "      <th>1</th>\n",
              "      <td>False</td>\n",
              "      <td>False</td>\n",
              "      <td>False</td>\n",
              "      <td>False</td>\n",
              "      <td>False</td>\n",
              "    </tr>\n",
              "    <tr>\n",
              "      <th>2</th>\n",
              "      <td>False</td>\n",
              "      <td>False</td>\n",
              "      <td>False</td>\n",
              "      <td>False</td>\n",
              "      <td>False</td>\n",
              "    </tr>\n",
              "    <tr>\n",
              "      <th>3</th>\n",
              "      <td>False</td>\n",
              "      <td>False</td>\n",
              "      <td>False</td>\n",
              "      <td>False</td>\n",
              "      <td>False</td>\n",
              "    </tr>\n",
              "    <tr>\n",
              "      <th>4</th>\n",
              "      <td>False</td>\n",
              "      <td>False</td>\n",
              "      <td>False</td>\n",
              "      <td>False</td>\n",
              "      <td>False</td>\n",
              "    </tr>\n",
              "    <tr>\n",
              "      <th>...</th>\n",
              "      <td>...</td>\n",
              "      <td>...</td>\n",
              "      <td>...</td>\n",
              "      <td>...</td>\n",
              "      <td>...</td>\n",
              "    </tr>\n",
              "    <tr>\n",
              "      <th>195</th>\n",
              "      <td>False</td>\n",
              "      <td>False</td>\n",
              "      <td>False</td>\n",
              "      <td>False</td>\n",
              "      <td>False</td>\n",
              "    </tr>\n",
              "    <tr>\n",
              "      <th>196</th>\n",
              "      <td>False</td>\n",
              "      <td>False</td>\n",
              "      <td>False</td>\n",
              "      <td>False</td>\n",
              "      <td>False</td>\n",
              "    </tr>\n",
              "    <tr>\n",
              "      <th>197</th>\n",
              "      <td>False</td>\n",
              "      <td>False</td>\n",
              "      <td>False</td>\n",
              "      <td>False</td>\n",
              "      <td>False</td>\n",
              "    </tr>\n",
              "    <tr>\n",
              "      <th>198</th>\n",
              "      <td>False</td>\n",
              "      <td>False</td>\n",
              "      <td>False</td>\n",
              "      <td>False</td>\n",
              "      <td>False</td>\n",
              "    </tr>\n",
              "    <tr>\n",
              "      <th>199</th>\n",
              "      <td>False</td>\n",
              "      <td>False</td>\n",
              "      <td>False</td>\n",
              "      <td>False</td>\n",
              "      <td>False</td>\n",
              "    </tr>\n",
              "  </tbody>\n",
              "</table>\n",
              "<p>200 rows × 5 columns</p>\n",
              "</div>\n",
              "    <div class=\"colab-df-buttons\">\n",
              "\n",
              "  <div class=\"colab-df-container\">\n",
              "    <button class=\"colab-df-convert\" onclick=\"convertToInteractive('df-55843dc9-3e80-446a-9753-22e2965bf635')\"\n",
              "            title=\"Convert this dataframe to an interactive table.\"\n",
              "            style=\"display:none;\">\n",
              "\n",
              "  <svg xmlns=\"http://www.w3.org/2000/svg\" height=\"24px\" viewBox=\"0 -960 960 960\">\n",
              "    <path d=\"M120-120v-720h720v720H120Zm60-500h600v-160H180v160Zm220 220h160v-160H400v160Zm0 220h160v-160H400v160ZM180-400h160v-160H180v160Zm440 0h160v-160H620v160ZM180-180h160v-160H180v160Zm440 0h160v-160H620v160Z\"/>\n",
              "  </svg>\n",
              "    </button>\n",
              "\n",
              "  <style>\n",
              "    .colab-df-container {\n",
              "      display:flex;\n",
              "      gap: 12px;\n",
              "    }\n",
              "\n",
              "    .colab-df-convert {\n",
              "      background-color: #E8F0FE;\n",
              "      border: none;\n",
              "      border-radius: 50%;\n",
              "      cursor: pointer;\n",
              "      display: none;\n",
              "      fill: #1967D2;\n",
              "      height: 32px;\n",
              "      padding: 0 0 0 0;\n",
              "      width: 32px;\n",
              "    }\n",
              "\n",
              "    .colab-df-convert:hover {\n",
              "      background-color: #E2EBFA;\n",
              "      box-shadow: 0px 1px 2px rgba(60, 64, 67, 0.3), 0px 1px 3px 1px rgba(60, 64, 67, 0.15);\n",
              "      fill: #174EA6;\n",
              "    }\n",
              "\n",
              "    .colab-df-buttons div {\n",
              "      margin-bottom: 4px;\n",
              "    }\n",
              "\n",
              "    [theme=dark] .colab-df-convert {\n",
              "      background-color: #3B4455;\n",
              "      fill: #D2E3FC;\n",
              "    }\n",
              "\n",
              "    [theme=dark] .colab-df-convert:hover {\n",
              "      background-color: #434B5C;\n",
              "      box-shadow: 0px 1px 3px 1px rgba(0, 0, 0, 0.15);\n",
              "      filter: drop-shadow(0px 1px 2px rgba(0, 0, 0, 0.3));\n",
              "      fill: #FFFFFF;\n",
              "    }\n",
              "  </style>\n",
              "\n",
              "    <script>\n",
              "      const buttonEl =\n",
              "        document.querySelector('#df-55843dc9-3e80-446a-9753-22e2965bf635 button.colab-df-convert');\n",
              "      buttonEl.style.display =\n",
              "        google.colab.kernel.accessAllowed ? 'block' : 'none';\n",
              "\n",
              "      async function convertToInteractive(key) {\n",
              "        const element = document.querySelector('#df-55843dc9-3e80-446a-9753-22e2965bf635');\n",
              "        const dataTable =\n",
              "          await google.colab.kernel.invokeFunction('convertToInteractive',\n",
              "                                                    [key], {});\n",
              "        if (!dataTable) return;\n",
              "\n",
              "        const docLinkHtml = 'Like what you see? Visit the ' +\n",
              "          '<a target=\"_blank\" href=https://colab.research.google.com/notebooks/data_table.ipynb>data table notebook</a>'\n",
              "          + ' to learn more about interactive tables.';\n",
              "        element.innerHTML = '';\n",
              "        dataTable['output_type'] = 'display_data';\n",
              "        await google.colab.output.renderOutput(dataTable, element);\n",
              "        const docLink = document.createElement('div');\n",
              "        docLink.innerHTML = docLinkHtml;\n",
              "        element.appendChild(docLink);\n",
              "      }\n",
              "    </script>\n",
              "  </div>\n",
              "\n",
              "\n",
              "<div id=\"df-d61d7142-7d05-4ebc-b3fe-d1de85a398d1\">\n",
              "  <button class=\"colab-df-quickchart\" onclick=\"quickchart('df-d61d7142-7d05-4ebc-b3fe-d1de85a398d1')\"\n",
              "            title=\"Suggest charts\"\n",
              "            style=\"display:none;\">\n",
              "\n",
              "<svg xmlns=\"http://www.w3.org/2000/svg\" height=\"24px\"viewBox=\"0 0 24 24\"\n",
              "     width=\"24px\">\n",
              "    <g>\n",
              "        <path d=\"M19 3H5c-1.1 0-2 .9-2 2v14c0 1.1.9 2 2 2h14c1.1 0 2-.9 2-2V5c0-1.1-.9-2-2-2zM9 17H7v-7h2v7zm4 0h-2V7h2v10zm4 0h-2v-4h2v4z\"/>\n",
              "    </g>\n",
              "</svg>\n",
              "  </button>\n",
              "\n",
              "<style>\n",
              "  .colab-df-quickchart {\n",
              "      --bg-color: #E8F0FE;\n",
              "      --fill-color: #1967D2;\n",
              "      --hover-bg-color: #E2EBFA;\n",
              "      --hover-fill-color: #174EA6;\n",
              "      --disabled-fill-color: #AAA;\n",
              "      --disabled-bg-color: #DDD;\n",
              "  }\n",
              "\n",
              "  [theme=dark] .colab-df-quickchart {\n",
              "      --bg-color: #3B4455;\n",
              "      --fill-color: #D2E3FC;\n",
              "      --hover-bg-color: #434B5C;\n",
              "      --hover-fill-color: #FFFFFF;\n",
              "      --disabled-bg-color: #3B4455;\n",
              "      --disabled-fill-color: #666;\n",
              "  }\n",
              "\n",
              "  .colab-df-quickchart {\n",
              "    background-color: var(--bg-color);\n",
              "    border: none;\n",
              "    border-radius: 50%;\n",
              "    cursor: pointer;\n",
              "    display: none;\n",
              "    fill: var(--fill-color);\n",
              "    height: 32px;\n",
              "    padding: 0;\n",
              "    width: 32px;\n",
              "  }\n",
              "\n",
              "  .colab-df-quickchart:hover {\n",
              "    background-color: var(--hover-bg-color);\n",
              "    box-shadow: 0 1px 2px rgba(60, 64, 67, 0.3), 0 1px 3px 1px rgba(60, 64, 67, 0.15);\n",
              "    fill: var(--button-hover-fill-color);\n",
              "  }\n",
              "\n",
              "  .colab-df-quickchart-complete:disabled,\n",
              "  .colab-df-quickchart-complete:disabled:hover {\n",
              "    background-color: var(--disabled-bg-color);\n",
              "    fill: var(--disabled-fill-color);\n",
              "    box-shadow: none;\n",
              "  }\n",
              "\n",
              "  .colab-df-spinner {\n",
              "    border: 2px solid var(--fill-color);\n",
              "    border-color: transparent;\n",
              "    border-bottom-color: var(--fill-color);\n",
              "    animation:\n",
              "      spin 1s steps(1) infinite;\n",
              "  }\n",
              "\n",
              "  @keyframes spin {\n",
              "    0% {\n",
              "      border-color: transparent;\n",
              "      border-bottom-color: var(--fill-color);\n",
              "      border-left-color: var(--fill-color);\n",
              "    }\n",
              "    20% {\n",
              "      border-color: transparent;\n",
              "      border-left-color: var(--fill-color);\n",
              "      border-top-color: var(--fill-color);\n",
              "    }\n",
              "    30% {\n",
              "      border-color: transparent;\n",
              "      border-left-color: var(--fill-color);\n",
              "      border-top-color: var(--fill-color);\n",
              "      border-right-color: var(--fill-color);\n",
              "    }\n",
              "    40% {\n",
              "      border-color: transparent;\n",
              "      border-right-color: var(--fill-color);\n",
              "      border-top-color: var(--fill-color);\n",
              "    }\n",
              "    60% {\n",
              "      border-color: transparent;\n",
              "      border-right-color: var(--fill-color);\n",
              "    }\n",
              "    80% {\n",
              "      border-color: transparent;\n",
              "      border-right-color: var(--fill-color);\n",
              "      border-bottom-color: var(--fill-color);\n",
              "    }\n",
              "    90% {\n",
              "      border-color: transparent;\n",
              "      border-bottom-color: var(--fill-color);\n",
              "    }\n",
              "  }\n",
              "</style>\n",
              "\n",
              "  <script>\n",
              "    async function quickchart(key) {\n",
              "      const quickchartButtonEl =\n",
              "        document.querySelector('#' + key + ' button');\n",
              "      quickchartButtonEl.disabled = true;  // To prevent multiple clicks.\n",
              "      quickchartButtonEl.classList.add('colab-df-spinner');\n",
              "      try {\n",
              "        const charts = await google.colab.kernel.invokeFunction(\n",
              "            'suggestCharts', [key], {});\n",
              "      } catch (error) {\n",
              "        console.error('Error during call to suggestCharts:', error);\n",
              "      }\n",
              "      quickchartButtonEl.classList.remove('colab-df-spinner');\n",
              "      quickchartButtonEl.classList.add('colab-df-quickchart-complete');\n",
              "    }\n",
              "    (() => {\n",
              "      let quickchartButtonEl =\n",
              "        document.querySelector('#df-d61d7142-7d05-4ebc-b3fe-d1de85a398d1 button');\n",
              "      quickchartButtonEl.style.display =\n",
              "        google.colab.kernel.accessAllowed ? 'block' : 'none';\n",
              "    })();\n",
              "  </script>\n",
              "</div>\n",
              "\n",
              "    </div>\n",
              "  </div>\n"
            ],
            "application/vnd.google.colaboratory.intrinsic+json": {
              "type": "dataframe",
              "summary": "{\n  \"name\": \"data\",\n  \"rows\": 200,\n  \"fields\": [\n    {\n      \"column\": \"Unnamed: 0\",\n      \"properties\": {\n        \"dtype\": \"boolean\",\n        \"num_unique_values\": 1,\n        \"samples\": [\n          false\n        ],\n        \"semantic_type\": \"\",\n        \"description\": \"\"\n      }\n    },\n    {\n      \"column\": \"TV\",\n      \"properties\": {\n        \"dtype\": \"boolean\",\n        \"num_unique_values\": 1,\n        \"samples\": [\n          false\n        ],\n        \"semantic_type\": \"\",\n        \"description\": \"\"\n      }\n    },\n    {\n      \"column\": \"Radio\",\n      \"properties\": {\n        \"dtype\": \"boolean\",\n        \"num_unique_values\": 1,\n        \"samples\": [\n          false\n        ],\n        \"semantic_type\": \"\",\n        \"description\": \"\"\n      }\n    },\n    {\n      \"column\": \"Newspaper\",\n      \"properties\": {\n        \"dtype\": \"boolean\",\n        \"num_unique_values\": 1,\n        \"samples\": [\n          false\n        ],\n        \"semantic_type\": \"\",\n        \"description\": \"\"\n      }\n    },\n    {\n      \"column\": \"Sales\",\n      \"properties\": {\n        \"dtype\": \"boolean\",\n        \"num_unique_values\": 1,\n        \"samples\": [\n          false\n        ],\n        \"semantic_type\": \"\",\n        \"description\": \"\"\n      }\n    }\n  ]\n}"
            }
          },
          "metadata": {},
          "execution_count": 6
        }
      ]
    },
    {
      "cell_type": "code",
      "source": [
        "data.isnull().sum()"
      ],
      "metadata": {
        "colab": {
          "base_uri": "https://localhost:8080/"
        },
        "id": "yx_1JiBnITPO",
        "outputId": "23ca2585-59b7-4006-cae5-d3e6670a26c9"
      },
      "execution_count": 7,
      "outputs": [
        {
          "output_type": "execute_result",
          "data": {
            "text/plain": [
              "Unnamed: 0    0\n",
              "TV            0\n",
              "Radio         0\n",
              "Newspaper     0\n",
              "Sales         0\n",
              "dtype: int64"
            ]
          },
          "metadata": {},
          "execution_count": 7
        }
      ]
    },
    {
      "cell_type": "code",
      "source": [
        "data.head()"
      ],
      "metadata": {
        "colab": {
          "base_uri": "https://localhost:8080/",
          "height": 206
        },
        "id": "GYiN-vJns364",
        "outputId": "b8aa160a-0640-4c8f-9b57-2dba600ad5d6"
      },
      "execution_count": 8,
      "outputs": [
        {
          "output_type": "execute_result",
          "data": {
            "text/plain": [
              "   Unnamed: 0     TV  Radio  Newspaper  Sales\n",
              "0           1  230.1   37.8       69.2   22.1\n",
              "1           2   44.5   39.3       45.1   10.4\n",
              "2           3   17.2   45.9       69.3    9.3\n",
              "3           4  151.5   41.3       58.5   18.5\n",
              "4           5  180.8   10.8       58.4   12.9"
            ],
            "text/html": [
              "\n",
              "  <div id=\"df-34962787-e7ba-4e67-a14b-04b66a780016\" class=\"colab-df-container\">\n",
              "    <div>\n",
              "<style scoped>\n",
              "    .dataframe tbody tr th:only-of-type {\n",
              "        vertical-align: middle;\n",
              "    }\n",
              "\n",
              "    .dataframe tbody tr th {\n",
              "        vertical-align: top;\n",
              "    }\n",
              "\n",
              "    .dataframe thead th {\n",
              "        text-align: right;\n",
              "    }\n",
              "</style>\n",
              "<table border=\"1\" class=\"dataframe\">\n",
              "  <thead>\n",
              "    <tr style=\"text-align: right;\">\n",
              "      <th></th>\n",
              "      <th>Unnamed: 0</th>\n",
              "      <th>TV</th>\n",
              "      <th>Radio</th>\n",
              "      <th>Newspaper</th>\n",
              "      <th>Sales</th>\n",
              "    </tr>\n",
              "  </thead>\n",
              "  <tbody>\n",
              "    <tr>\n",
              "      <th>0</th>\n",
              "      <td>1</td>\n",
              "      <td>230.1</td>\n",
              "      <td>37.8</td>\n",
              "      <td>69.2</td>\n",
              "      <td>22.1</td>\n",
              "    </tr>\n",
              "    <tr>\n",
              "      <th>1</th>\n",
              "      <td>2</td>\n",
              "      <td>44.5</td>\n",
              "      <td>39.3</td>\n",
              "      <td>45.1</td>\n",
              "      <td>10.4</td>\n",
              "    </tr>\n",
              "    <tr>\n",
              "      <th>2</th>\n",
              "      <td>3</td>\n",
              "      <td>17.2</td>\n",
              "      <td>45.9</td>\n",
              "      <td>69.3</td>\n",
              "      <td>9.3</td>\n",
              "    </tr>\n",
              "    <tr>\n",
              "      <th>3</th>\n",
              "      <td>4</td>\n",
              "      <td>151.5</td>\n",
              "      <td>41.3</td>\n",
              "      <td>58.5</td>\n",
              "      <td>18.5</td>\n",
              "    </tr>\n",
              "    <tr>\n",
              "      <th>4</th>\n",
              "      <td>5</td>\n",
              "      <td>180.8</td>\n",
              "      <td>10.8</td>\n",
              "      <td>58.4</td>\n",
              "      <td>12.9</td>\n",
              "    </tr>\n",
              "  </tbody>\n",
              "</table>\n",
              "</div>\n",
              "    <div class=\"colab-df-buttons\">\n",
              "\n",
              "  <div class=\"colab-df-container\">\n",
              "    <button class=\"colab-df-convert\" onclick=\"convertToInteractive('df-34962787-e7ba-4e67-a14b-04b66a780016')\"\n",
              "            title=\"Convert this dataframe to an interactive table.\"\n",
              "            style=\"display:none;\">\n",
              "\n",
              "  <svg xmlns=\"http://www.w3.org/2000/svg\" height=\"24px\" viewBox=\"0 -960 960 960\">\n",
              "    <path d=\"M120-120v-720h720v720H120Zm60-500h600v-160H180v160Zm220 220h160v-160H400v160Zm0 220h160v-160H400v160ZM180-400h160v-160H180v160Zm440 0h160v-160H620v160ZM180-180h160v-160H180v160Zm440 0h160v-160H620v160Z\"/>\n",
              "  </svg>\n",
              "    </button>\n",
              "\n",
              "  <style>\n",
              "    .colab-df-container {\n",
              "      display:flex;\n",
              "      gap: 12px;\n",
              "    }\n",
              "\n",
              "    .colab-df-convert {\n",
              "      background-color: #E8F0FE;\n",
              "      border: none;\n",
              "      border-radius: 50%;\n",
              "      cursor: pointer;\n",
              "      display: none;\n",
              "      fill: #1967D2;\n",
              "      height: 32px;\n",
              "      padding: 0 0 0 0;\n",
              "      width: 32px;\n",
              "    }\n",
              "\n",
              "    .colab-df-convert:hover {\n",
              "      background-color: #E2EBFA;\n",
              "      box-shadow: 0px 1px 2px rgba(60, 64, 67, 0.3), 0px 1px 3px 1px rgba(60, 64, 67, 0.15);\n",
              "      fill: #174EA6;\n",
              "    }\n",
              "\n",
              "    .colab-df-buttons div {\n",
              "      margin-bottom: 4px;\n",
              "    }\n",
              "\n",
              "    [theme=dark] .colab-df-convert {\n",
              "      background-color: #3B4455;\n",
              "      fill: #D2E3FC;\n",
              "    }\n",
              "\n",
              "    [theme=dark] .colab-df-convert:hover {\n",
              "      background-color: #434B5C;\n",
              "      box-shadow: 0px 1px 3px 1px rgba(0, 0, 0, 0.15);\n",
              "      filter: drop-shadow(0px 1px 2px rgba(0, 0, 0, 0.3));\n",
              "      fill: #FFFFFF;\n",
              "    }\n",
              "  </style>\n",
              "\n",
              "    <script>\n",
              "      const buttonEl =\n",
              "        document.querySelector('#df-34962787-e7ba-4e67-a14b-04b66a780016 button.colab-df-convert');\n",
              "      buttonEl.style.display =\n",
              "        google.colab.kernel.accessAllowed ? 'block' : 'none';\n",
              "\n",
              "      async function convertToInteractive(key) {\n",
              "        const element = document.querySelector('#df-34962787-e7ba-4e67-a14b-04b66a780016');\n",
              "        const dataTable =\n",
              "          await google.colab.kernel.invokeFunction('convertToInteractive',\n",
              "                                                    [key], {});\n",
              "        if (!dataTable) return;\n",
              "\n",
              "        const docLinkHtml = 'Like what you see? Visit the ' +\n",
              "          '<a target=\"_blank\" href=https://colab.research.google.com/notebooks/data_table.ipynb>data table notebook</a>'\n",
              "          + ' to learn more about interactive tables.';\n",
              "        element.innerHTML = '';\n",
              "        dataTable['output_type'] = 'display_data';\n",
              "        await google.colab.output.renderOutput(dataTable, element);\n",
              "        const docLink = document.createElement('div');\n",
              "        docLink.innerHTML = docLinkHtml;\n",
              "        element.appendChild(docLink);\n",
              "      }\n",
              "    </script>\n",
              "  </div>\n",
              "\n",
              "\n",
              "<div id=\"df-9e0740d1-538a-4449-958e-b875e926bb07\">\n",
              "  <button class=\"colab-df-quickchart\" onclick=\"quickchart('df-9e0740d1-538a-4449-958e-b875e926bb07')\"\n",
              "            title=\"Suggest charts\"\n",
              "            style=\"display:none;\">\n",
              "\n",
              "<svg xmlns=\"http://www.w3.org/2000/svg\" height=\"24px\"viewBox=\"0 0 24 24\"\n",
              "     width=\"24px\">\n",
              "    <g>\n",
              "        <path d=\"M19 3H5c-1.1 0-2 .9-2 2v14c0 1.1.9 2 2 2h14c1.1 0 2-.9 2-2V5c0-1.1-.9-2-2-2zM9 17H7v-7h2v7zm4 0h-2V7h2v10zm4 0h-2v-4h2v4z\"/>\n",
              "    </g>\n",
              "</svg>\n",
              "  </button>\n",
              "\n",
              "<style>\n",
              "  .colab-df-quickchart {\n",
              "      --bg-color: #E8F0FE;\n",
              "      --fill-color: #1967D2;\n",
              "      --hover-bg-color: #E2EBFA;\n",
              "      --hover-fill-color: #174EA6;\n",
              "      --disabled-fill-color: #AAA;\n",
              "      --disabled-bg-color: #DDD;\n",
              "  }\n",
              "\n",
              "  [theme=dark] .colab-df-quickchart {\n",
              "      --bg-color: #3B4455;\n",
              "      --fill-color: #D2E3FC;\n",
              "      --hover-bg-color: #434B5C;\n",
              "      --hover-fill-color: #FFFFFF;\n",
              "      --disabled-bg-color: #3B4455;\n",
              "      --disabled-fill-color: #666;\n",
              "  }\n",
              "\n",
              "  .colab-df-quickchart {\n",
              "    background-color: var(--bg-color);\n",
              "    border: none;\n",
              "    border-radius: 50%;\n",
              "    cursor: pointer;\n",
              "    display: none;\n",
              "    fill: var(--fill-color);\n",
              "    height: 32px;\n",
              "    padding: 0;\n",
              "    width: 32px;\n",
              "  }\n",
              "\n",
              "  .colab-df-quickchart:hover {\n",
              "    background-color: var(--hover-bg-color);\n",
              "    box-shadow: 0 1px 2px rgba(60, 64, 67, 0.3), 0 1px 3px 1px rgba(60, 64, 67, 0.15);\n",
              "    fill: var(--button-hover-fill-color);\n",
              "  }\n",
              "\n",
              "  .colab-df-quickchart-complete:disabled,\n",
              "  .colab-df-quickchart-complete:disabled:hover {\n",
              "    background-color: var(--disabled-bg-color);\n",
              "    fill: var(--disabled-fill-color);\n",
              "    box-shadow: none;\n",
              "  }\n",
              "\n",
              "  .colab-df-spinner {\n",
              "    border: 2px solid var(--fill-color);\n",
              "    border-color: transparent;\n",
              "    border-bottom-color: var(--fill-color);\n",
              "    animation:\n",
              "      spin 1s steps(1) infinite;\n",
              "  }\n",
              "\n",
              "  @keyframes spin {\n",
              "    0% {\n",
              "      border-color: transparent;\n",
              "      border-bottom-color: var(--fill-color);\n",
              "      border-left-color: var(--fill-color);\n",
              "    }\n",
              "    20% {\n",
              "      border-color: transparent;\n",
              "      border-left-color: var(--fill-color);\n",
              "      border-top-color: var(--fill-color);\n",
              "    }\n",
              "    30% {\n",
              "      border-color: transparent;\n",
              "      border-left-color: var(--fill-color);\n",
              "      border-top-color: var(--fill-color);\n",
              "      border-right-color: var(--fill-color);\n",
              "    }\n",
              "    40% {\n",
              "      border-color: transparent;\n",
              "      border-right-color: var(--fill-color);\n",
              "      border-top-color: var(--fill-color);\n",
              "    }\n",
              "    60% {\n",
              "      border-color: transparent;\n",
              "      border-right-color: var(--fill-color);\n",
              "    }\n",
              "    80% {\n",
              "      border-color: transparent;\n",
              "      border-right-color: var(--fill-color);\n",
              "      border-bottom-color: var(--fill-color);\n",
              "    }\n",
              "    90% {\n",
              "      border-color: transparent;\n",
              "      border-bottom-color: var(--fill-color);\n",
              "    }\n",
              "  }\n",
              "</style>\n",
              "\n",
              "  <script>\n",
              "    async function quickchart(key) {\n",
              "      const quickchartButtonEl =\n",
              "        document.querySelector('#' + key + ' button');\n",
              "      quickchartButtonEl.disabled = true;  // To prevent multiple clicks.\n",
              "      quickchartButtonEl.classList.add('colab-df-spinner');\n",
              "      try {\n",
              "        const charts = await google.colab.kernel.invokeFunction(\n",
              "            'suggestCharts', [key], {});\n",
              "      } catch (error) {\n",
              "        console.error('Error during call to suggestCharts:', error);\n",
              "      }\n",
              "      quickchartButtonEl.classList.remove('colab-df-spinner');\n",
              "      quickchartButtonEl.classList.add('colab-df-quickchart-complete');\n",
              "    }\n",
              "    (() => {\n",
              "      let quickchartButtonEl =\n",
              "        document.querySelector('#df-9e0740d1-538a-4449-958e-b875e926bb07 button');\n",
              "      quickchartButtonEl.style.display =\n",
              "        google.colab.kernel.accessAllowed ? 'block' : 'none';\n",
              "    })();\n",
              "  </script>\n",
              "</div>\n",
              "\n",
              "    </div>\n",
              "  </div>\n"
            ],
            "application/vnd.google.colaboratory.intrinsic+json": {
              "type": "dataframe",
              "variable_name": "data",
              "summary": "{\n  \"name\": \"data\",\n  \"rows\": 200,\n  \"fields\": [\n    {\n      \"column\": \"Unnamed: 0\",\n      \"properties\": {\n        \"dtype\": \"number\",\n        \"std\": 57,\n        \"min\": 1,\n        \"max\": 200,\n        \"num_unique_values\": 200,\n        \"samples\": [\n          96,\n          16,\n          31\n        ],\n        \"semantic_type\": \"\",\n        \"description\": \"\"\n      }\n    },\n    {\n      \"column\": \"TV\",\n      \"properties\": {\n        \"dtype\": \"number\",\n        \"std\": 85.85423631490808,\n        \"min\": 0.7,\n        \"max\": 296.4,\n        \"num_unique_values\": 190,\n        \"samples\": [\n          287.6,\n          286.0,\n          78.2\n        ],\n        \"semantic_type\": \"\",\n        \"description\": \"\"\n      }\n    },\n    {\n      \"column\": \"Radio\",\n      \"properties\": {\n        \"dtype\": \"number\",\n        \"std\": 14.846809176168724,\n        \"min\": 0.0,\n        \"max\": 49.6,\n        \"num_unique_values\": 167,\n        \"samples\": [\n          8.2,\n          36.9,\n          44.5\n        ],\n        \"semantic_type\": \"\",\n        \"description\": \"\"\n      }\n    },\n    {\n      \"column\": \"Newspaper\",\n      \"properties\": {\n        \"dtype\": \"number\",\n        \"std\": 21.778620838522826,\n        \"min\": 0.3,\n        \"max\": 114.0,\n        \"num_unique_values\": 172,\n        \"samples\": [\n          22.3,\n          5.7,\n          17.0\n        ],\n        \"semantic_type\": \"\",\n        \"description\": \"\"\n      }\n    },\n    {\n      \"column\": \"Sales\",\n      \"properties\": {\n        \"dtype\": \"number\",\n        \"std\": 5.217456565710478,\n        \"min\": 1.6,\n        \"max\": 27.0,\n        \"num_unique_values\": 121,\n        \"samples\": [\n          11.4,\n          21.2,\n          12.9\n        ],\n        \"semantic_type\": \"\",\n        \"description\": \"\"\n      }\n    }\n  ]\n}"
            }
          },
          "metadata": {},
          "execution_count": 8
        }
      ]
    },
    {
      "cell_type": "code",
      "source": [
        "data.dtypes"
      ],
      "metadata": {
        "colab": {
          "base_uri": "https://localhost:8080/"
        },
        "id": "3SxCy5Lgn_g-",
        "outputId": "803d725a-6b1a-47d5-8177-14a3f1df04b1"
      },
      "execution_count": 9,
      "outputs": [
        {
          "output_type": "execute_result",
          "data": {
            "text/plain": [
              "Unnamed: 0      int64\n",
              "TV            float64\n",
              "Radio         float64\n",
              "Newspaper     float64\n",
              "Sales         float64\n",
              "dtype: object"
            ]
          },
          "metadata": {},
          "execution_count": 9
        }
      ]
    },
    {
      "cell_type": "markdown",
      "source": [
        "**Outlier Detection and Removal**"
      ],
      "metadata": {
        "id": "hl3v79VDMvTS"
      }
    },
    {
      "cell_type": "code",
      "source": [
        "import seaborn as sns\n",
        "import matplotlib.pyplot as plt\n",
        "import numpy as np"
      ],
      "metadata": {
        "id": "9UBkmQx_I0Xb"
      },
      "execution_count": 10,
      "outputs": []
    },
    {
      "cell_type": "code",
      "source": [
        "def boxplot(str,column):\n",
        "    plt.figure(figsize=(8, 6))\n",
        "    sns.boxplot(y=data[column])\n",
        "    plt.title(f'Box Plot of {column} {str}')\n",
        "    plt.show()"
      ],
      "metadata": {
        "id": "9SoKcdnqNDXh"
      },
      "execution_count": 11,
      "outputs": []
    },
    {
      "cell_type": "code",
      "source": [
        "for column in data:\n",
        "\n",
        "    print(\"Before Outlier Removing: \",column)\n",
        "\n",
        "    boxplot('Before Outlier',column)\n",
        "\n",
        "    print(\"After Outlier Removing: \",column)\n",
        "\n",
        "    q1 = data[column].quantile(0.25)\n",
        "    q3 = data[column].quantile(0.75)\n",
        "    iqr = q3 - q1\n",
        "\n",
        "    lower_bound = q1 - 1.5 * iqr\n",
        "    upper_bound = q3 + 1.5 * iqr\n",
        "\n",
        "    data = data.loc[(data[column] > lower_bound) & (data[column] < upper_bound)]\n",
        "\n",
        "    boxplot('After Outlier',column)\n",
        "\n"
      ],
      "metadata": {
        "colab": {
          "base_uri": "https://localhost:8080/",
          "height": 1000
        },
        "id": "HVkjTUpZI91O",
        "outputId": "58b1516b-2970-4ecc-9ee5-98fab0bda396"
      },
      "execution_count": 12,
      "outputs": [
        {
          "output_type": "stream",
          "name": "stdout",
          "text": [
            "Before Outlier Removing:  Unnamed: 0\n"
          ]
        },
        {
          "output_type": "display_data",
          "data": {
            "text/plain": [
              "<Figure size 800x600 with 1 Axes>"
            ],
            "image/png": "[encoded data removed]"
          },
          "metadata": {}
        },
        {
          "output_type": "stream",
          "name": "stdout",
          "text": [
            "After Outlier Removing:  Unnamed: 0\n"
          ]
        },
        {
          "output_type": "display_data",
          "data": {
            "text/plain": [
              "<Figure size 800x600 with 1 Axes>"
            ],
            "image/png": "[encoded data removed]"
          },
          "metadata": {}
        },
        {
          "output_type": "stream",
          "name": "stdout",
          "text": [
            "Before Outlier Removing:  TV\n"
          ]
        },
        {
          "output_type": "display_data",
          "data": {
            "text/plain": [
              "<Figure size 800x600 with 1 Axes>"
            ],
            "image/png": "[encoded data removed]"
          },
          "metadata": {}
        },
        {
          "output_type": "stream",
          "name": "stdout",
          "text": [
            "After Outlier Removing:  TV\n"
          ]
        },
        {
          "output_type": "display_data",
          "data": {
            "text/plain": [
              "<Figure size 800x600 with 1 Axes>"
            ],
            "image/png": "[encoded data removed]"
          },
          "metadata": {}
        },
        {
          "output_type": "stream",
          "name": "stdout",
          "text": [
            "Before Outlier Removing:  Radio\n"
          ]
        },
        {
          "output_type": "display_data",
          "data": {
            "text/plain": [
              "<Figure size 800x600 with 1 Axes>"
            ],
            "image/png": "[encoded data removed]"
          },
          "metadata": {}
        },
        {
          "output_type": "stream",
          "name": "stdout",
          "text": [
            "After Outlier Removing:  Radio\n"
          ]
        },
        {
          "output_type": "display_data",
          "data": {
            "text/plain": [
              "<Figure size 800x600 with 1 Axes>"
            ],
            "image/png": "[encoded data removed]"
          },
          "metadata": {}
        },
        {
          "output_type": "stream",
          "name": "stdout",
          "text": [
            "Before Outlier Removing:  Newspaper\n"
          ]
        },
        {
          "output_type": "display_data",
          "data": {
            "text/plain": [
              "<Figure size 800x600 with 1 Axes>"
            ],
            "image/png": "[encoded data removed]"
          },
          "metadata": {}
        },
        {
          "output_type": "stream",
          "name": "stdout",
          "text": [
            "After Outlier Removing:  Newspaper\n"
          ]
        },
        {
          "output_type": "display_data",
          "data": {
            "text/plain": [
              "<Figure size 800x600 with 1 Axes>"
            ],
            "image/png": "[encoded data removed]"
          },
          "metadata": {}
        },
        {
          "output_type": "stream",
          "name": "stdout",
          "text": [
            "Before Outlier Removing:  Sales\n"
          ]
        },
        {
          "output_type": "display_data",
          "data": {
            "text/plain": [
              "<Figure size 800x600 with 1 Axes>"
            ],
            "image/png": "[encoded data removed]"
          },
          "metadata": {}
        },
        {
          "output_type": "stream",
          "name": "stdout",
          "text": [
            "After Outlier Removing:  Sales\n"
          ]
        },
        {
          "output_type": "display_data",
          "data": {
            "text/plain": [
              "<Figure size 800x600 with 1 Axes>"
            ],
            "image/png": "[encoded data removed]"
          },
          "metadata": {}
        }
      ]
    },
    {
      "cell_type": "code",
      "source": [
        "data.head()"
      ],
      "metadata": {
        "colab": {
          "base_uri": "https://localhost:8080/",
          "height": 206
        },
        "id": "sLKrWtlfrgJQ",
        "outputId": "93220709-54b8-41ae-c7e4-ea7178a9086d"
      },
      "execution_count": 13,
      "outputs": [
        {
          "output_type": "execute_result",
          "data": {
            "text/plain": [
              "   Unnamed: 0     TV  Radio  Newspaper  Sales\n",
              "0           1  230.1   37.8       69.2   22.1\n",
              "1           2   44.5   39.3       45.1   10.4\n",
              "2           3   17.2   45.9       69.3    9.3\n",
              "3           4  151.5   41.3       58.5   18.5\n",
              "4           5  180.8   10.8       58.4   12.9"
            ],
            "text/html": [
              "\n",
              "  <div id=\"df-6720b952-aaec-47fd-9692-dd9e172d63a2\" class=\"colab-df-container\">\n",
              "    <div>\n",
              "<style scoped>\n",
              "    .dataframe tbody tr th:only-of-type {\n",
              "        vertical-align: middle;\n",
              "    }\n",
              "\n",
              "    .dataframe tbody tr th {\n",
              "        vertical-align: top;\n",
              "    }\n",
              "\n",
              "    .dataframe thead th {\n",
              "        text-align: right;\n",
              "    }\n",
              "</style>\n",
              "<table border=\"1\" class=\"dataframe\">\n",
              "  <thead>\n",
              "    <tr style=\"text-align: right;\">\n",
              "      <th></th>\n",
              "      <th>Unnamed: 0</th>\n",
              "      <th>TV</th>\n",
              "      <th>Radio</th>\n",
              "      <th>Newspaper</th>\n",
              "      <th>Sales</th>\n",
              "    </tr>\n",
              "  </thead>\n",
              "  <tbody>\n",
              "    <tr>\n",
              "      <th>0</th>\n",
              "      <td>1</td>\n",
              "      <td>230.1</td>\n",
              "      <td>37.8</td>\n",
              "      <td>69.2</td>\n",
              "      <td>22.1</td>\n",
              "    </tr>\n",
              "    <tr>\n",
              "      <th>1</th>\n",
              "      <td>2</td>\n",
              "      <td>44.5</td>\n",
              "      <td>39.3</td>\n",
              "      <td>45.1</td>\n",
              "      <td>10.4</td>\n",
              "    </tr>\n",
              "    <tr>\n",
              "      <th>2</th>\n",
              "      <td>3</td>\n",
              "      <td>17.2</td>\n",
              "      <td>45.9</td>\n",
              "      <td>69.3</td>\n",
              "      <td>9.3</td>\n",
              "    </tr>\n",
              "    <tr>\n",
              "      <th>3</th>\n",
              "      <td>4</td>\n",
              "      <td>151.5</td>\n",
              "      <td>41.3</td>\n",
              "      <td>58.5</td>\n",
              "      <td>18.5</td>\n",
              "    </tr>\n",
              "    <tr>\n",
              "      <th>4</th>\n",
              "      <td>5</td>\n",
              "      <td>180.8</td>\n",
              "      <td>10.8</td>\n",
              "      <td>58.4</td>\n",
              "      <td>12.9</td>\n",
              "    </tr>\n",
              "  </tbody>\n",
              "</table>\n",
              "</div>\n",
              "    <div class=\"colab-df-buttons\">\n",
              "\n",
              "  <div class=\"colab-df-container\">\n",
              "    <button class=\"colab-df-convert\" onclick=\"convertToInteractive('df-6720b952-aaec-47fd-9692-dd9e172d63a2')\"\n",
              "            title=\"Convert this dataframe to an interactive table.\"\n",
              "            style=\"display:none;\">\n",
              "\n",
              "  <svg xmlns=\"http://www.w3.org/2000/svg\" height=\"24px\" viewBox=\"0 -960 960 960\">\n",
              "    <path d=\"M120-120v-720h720v720H120Zm60-500h600v-160H180v160Zm220 220h160v-160H400v160Zm0 220h160v-160H400v160ZM180-400h160v-160H180v160Zm440 0h160v-160H620v160ZM180-180h160v-160H180v160Zm440 0h160v-160H620v160Z\"/>\n",
              "  </svg>\n",
              "    </button>\n",
              "\n",
              "  <style>\n",
              "    .colab-df-container {\n",
              "      display:flex;\n",
              "      gap: 12px;\n",
              "    }\n",
              "\n",
              "    .colab-df-convert {\n",
              "      background-color: #E8F0FE;\n",
              "      border: none;\n",
              "      border-radius: 50%;\n",
              "      cursor: pointer;\n",
              "      display: none;\n",
              "      fill: #1967D2;\n",
              "      height: 32px;\n",
              "      padding: 0 0 0 0;\n",
              "      width: 32px;\n",
              "    }\n",
              "\n",
              "    .colab-df-convert:hover {\n",
              "      background-color: #E2EBFA;\n",
              "      box-shadow: 0px 1px 2px rgba(60, 64, 67, 0.3), 0px 1px 3px 1px rgba(60, 64, 67, 0.15);\n",
              "      fill: #174EA6;\n",
              "    }\n",
              "\n",
              "    .colab-df-buttons div {\n",
              "      margin-bottom: 4px;\n",
              "    }\n",
              "\n",
              "    [theme=dark] .colab-df-convert {\n",
              "      background-color: #3B4455;\n",
              "      fill: #D2E3FC;\n",
              "    }\n",
              "\n",
              "    [theme=dark] .colab-df-convert:hover {\n",
              "      background-color: #434B5C;\n",
              "      box-shadow: 0px 1px 3px 1px rgba(0, 0, 0, 0.15);\n",
              "      filter: drop-shadow(0px 1px 2px rgba(0, 0, 0, 0.3));\n",
              "      fill: #FFFFFF;\n",
              "    }\n",
              "  </style>\n",
              "\n",
              "    <script>\n",
              "      const buttonEl =\n",
              "        document.querySelector('#df-6720b952-aaec-47fd-9692-dd9e172d63a2 button.colab-df-convert');\n",
              "      buttonEl.style.display =\n",
              "        google.colab.kernel.accessAllowed ? 'block' : 'none';\n",
              "\n",
              "      async function convertToInteractive(key) {\n",
              "        const element = document.querySelector('#df-6720b952-aaec-47fd-9692-dd9e172d63a2');\n",
              "        const dataTable =\n",
              "          await google.colab.kernel.invokeFunction('convertToInteractive',\n",
              "                                                    [key], {});\n",
              "        if (!dataTable) return;\n",
              "\n",
              "        const docLinkHtml = 'Like what you see? Visit the ' +\n",
              "          '<a target=\"_blank\" href=https://colab.research.google.com/notebooks/data_table.ipynb>data table notebook</a>'\n",
              "          + ' to learn more about interactive tables.';\n",
              "        element.innerHTML = '';\n",
              "        dataTable['output_type'] = 'display_data';\n",
              "        await google.colab.output.renderOutput(dataTable, element);\n",
              "        const docLink = document.createElement('div');\n",
              "        docLink.innerHTML = docLinkHtml;\n",
              "        element.appendChild(docLink);\n",
              "      }\n",
              "    </script>\n",
              "  </div>\n",
              "\n",
              "\n",
              "<div id=\"df-04936876-22ae-4f48-835a-c07dea33dbd1\">\n",
              "  <button class=\"colab-df-quickchart\" onclick=\"quickchart('df-04936876-22ae-4f48-835a-c07dea33dbd1')\"\n",
              "            title=\"Suggest charts\"\n",
              "            style=\"display:none;\">\n",
              "\n",
              "<svg xmlns=\"http://www.w3.org/2000/svg\" height=\"24px\"viewBox=\"0 0 24 24\"\n",
              "     width=\"24px\">\n",
              "    <g>\n",
              "        <path d=\"M19 3H5c-1.1 0-2 .9-2 2v14c0 1.1.9 2 2 2h14c1.1 0 2-.9 2-2V5c0-1.1-.9-2-2-2zM9 17H7v-7h2v7zm4 0h-2V7h2v10zm4 0h-2v-4h2v4z\"/>\n",
              "    </g>\n",
              "</svg>\n",
              "  </button>\n",
              "\n",
              "<style>\n",
              "  .colab-df-quickchart {\n",
              "      --bg-color: #E8F0FE;\n",
              "      --fill-color: #1967D2;\n",
              "      --hover-bg-color: #E2EBFA;\n",
              "      --hover-fill-color: #174EA6;\n",
              "      --disabled-fill-color: #AAA;\n",
              "      --disabled-bg-color: #DDD;\n",
              "  }\n",
              "\n",
              "  [theme=dark] .colab-df-quickchart {\n",
              "      --bg-color: #3B4455;\n",
              "      --fill-color: #D2E3FC;\n",
              "      --hover-bg-color: #434B5C;\n",
              "      --hover-fill-color: #FFFFFF;\n",
              "      --disabled-bg-color: #3B4455;\n",
              "      --disabled-fill-color: #666;\n",
              "  }\n",
              "\n",
              "  .colab-df-quickchart {\n",
              "    background-color: var(--bg-color);\n",
              "    border: none;\n",
              "    border-radius: 50%;\n",
              "    cursor: pointer;\n",
              "    display: none;\n",
              "    fill: var(--fill-color);\n",
              "    height: 32px;\n",
              "    padding: 0;\n",
              "    width: 32px;\n",
              "  }\n",
              "\n",
              "  .colab-df-quickchart:hover {\n",
              "    background-color: var(--hover-bg-color);\n",
              "    box-shadow: 0 1px 2px rgba(60, 64, 67, 0.3), 0 1px 3px 1px rgba(60, 64, 67, 0.15);\n",
              "    fill: var(--button-hover-fill-color);\n",
              "  }\n",
              "\n",
              "  .colab-df-quickchart-complete:disabled,\n",
              "  .colab-df-quickchart-complete:disabled:hover {\n",
              "    background-color: var(--disabled-bg-color);\n",
              "    fill: var(--disabled-fill-color);\n",
              "    box-shadow: none;\n",
              "  }\n",
              "\n",
              "  .colab-df-spinner {\n",
              "    border: 2px solid var(--fill-color);\n",
              "    border-color: transparent;\n",
              "    border-bottom-color: var(--fill-color);\n",
              "    animation:\n",
              "      spin 1s steps(1) infinite;\n",
              "  }\n",
              "\n",
              "  @keyframes spin {\n",
              "    0% {\n",
              "      border-color: transparent;\n",
              "      border-bottom-color: var(--fill-color);\n",
              "      border-left-color: var(--fill-color);\n",
              "    }\n",
              "    20% {\n",
              "      border-color: transparent;\n",
              "      border-left-color: var(--fill-color);\n",
              "      border-top-color: var(--fill-color);\n",
              "    }\n",
              "    30% {\n",
              "      border-color: transparent;\n",
              "      border-left-color: var(--fill-color);\n",
              "      border-top-color: var(--fill-color);\n",
              "      border-right-color: var(--fill-color);\n",
              "    }\n",
              "    40% {\n",
              "      border-color: transparent;\n",
              "      border-right-color: var(--fill-color);\n",
              "      border-top-color: var(--fill-color);\n",
              "    }\n",
              "    60% {\n",
              "      border-color: transparent;\n",
              "      border-right-color: var(--fill-color);\n",
              "    }\n",
              "    80% {\n",
              "      border-color: transparent;\n",
              "      border-right-color: var(--fill-color);\n",
              "      border-bottom-color: var(--fill-color);\n",
              "    }\n",
              "    90% {\n",
              "      border-color: transparent;\n",
              "      border-bottom-color: var(--fill-color);\n",
              "    }\n",
              "  }\n",
              "</style>\n",
              "\n",
              "  <script>\n",
              "    async function quickchart(key) {\n",
              "      const quickchartButtonEl =\n",
              "        document.querySelector('#' + key + ' button');\n",
              "      quickchartButtonEl.disabled = true;  // To prevent multiple clicks.\n",
              "      quickchartButtonEl.classList.add('colab-df-spinner');\n",
              "      try {\n",
              "        const charts = await google.colab.kernel.invokeFunction(\n",
              "            'suggestCharts', [key], {});\n",
              "      } catch (error) {\n",
              "        console.error('Error during call to suggestCharts:', error);\n",
              "      }\n",
              "      quickchartButtonEl.classList.remove('colab-df-spinner');\n",
              "      quickchartButtonEl.classList.add('colab-df-quickchart-complete');\n",
              "    }\n",
              "    (() => {\n",
              "      let quickchartButtonEl =\n",
              "        document.querySelector('#df-04936876-22ae-4f48-835a-c07dea33dbd1 button');\n",
              "      quickchartButtonEl.style.display =\n",
              "        google.colab.kernel.accessAllowed ? 'block' : 'none';\n",
              "    })();\n",
              "  </script>\n",
              "</div>\n",
              "\n",
              "    </div>\n",
              "  </div>\n"
            ],
            "application/vnd.google.colaboratory.intrinsic+json": {
              "type": "dataframe",
              "variable_name": "data",
              "summary": "{\n  \"name\": \"data\",\n  \"rows\": 198,\n  \"fields\": [\n    {\n      \"column\": \"Unnamed: 0\",\n      \"properties\": {\n        \"dtype\": \"number\",\n        \"std\": 57,\n        \"min\": 1,\n        \"max\": 200,\n        \"num_unique_values\": 198,\n        \"samples\": [\n          67,\n          117,\n          18\n        ],\n        \"semantic_type\": \"\",\n        \"description\": \"\"\n      }\n    },\n    {\n      \"column\": \"TV\",\n      \"properties\": {\n        \"dtype\": \"number\",\n        \"std\": 85.44322077294936,\n        \"min\": 0.7,\n        \"max\": 293.6,\n        \"num_unique_values\": 188,\n        \"samples\": [\n          149.7,\n          164.5,\n          147.3\n        ],\n        \"semantic_type\": \"\",\n        \"description\": \"\"\n      }\n    },\n    {\n      \"column\": \"Radio\",\n      \"properties\": {\n        \"dtype\": \"number\",\n        \"std\": 14.86211107267686,\n        \"min\": 0.0,\n        \"max\": 49.6,\n        \"num_unique_values\": 165,\n        \"samples\": [\n          21.1,\n          49.0,\n          25.8\n        ],\n        \"semantic_type\": \"\",\n        \"description\": \"\"\n      }\n    },\n    {\n      \"column\": \"Newspaper\",\n      \"properties\": {\n        \"dtype\": \"number\",\n        \"std\": 20.44630304627875,\n        \"min\": 0.3,\n        \"max\": 89.4,\n        \"num_unique_values\": 170,\n        \"samples\": [\n          45.2,\n          7.4,\n          2.1\n        ],\n        \"semantic_type\": \"\",\n        \"description\": \"\"\n      }\n    },\n    {\n      \"column\": \"Sales\",\n      \"properties\": {\n        \"dtype\": \"number\",\n        \"std\": 5.19609726187436,\n        \"min\": 1.6,\n        \"max\": 27.0,\n        \"num_unique_values\": 121,\n        \"samples\": [\n          11.4,\n          21.2,\n          12.9\n        ],\n        \"semantic_type\": \"\",\n        \"description\": \"\"\n      }\n    }\n  ]\n}"
            }
          },
          "metadata": {},
          "execution_count": 13
        }
      ]
    },
    {
      "cell_type": "code",
      "source": [
        "data.info()"
      ],
      "metadata": {
        "colab": {
          "base_uri": "https://localhost:8080/"
        },
        "id": "FRmJrjDCVgsM",
        "outputId": "a543fbcc-0ddb-45b5-e3ff-82afef173251"
      },
      "execution_count": 14,
      "outputs": [
        {
          "output_type": "stream",
          "name": "stdout",
          "text": [
            "<class 'pandas.core.frame.DataFrame'>\n",
            "Index: 198 entries, 0 to 199\n",
            "Data columns (total 5 columns):\n",
            " #   Column      Non-Null Count  Dtype  \n",
            "---  ------      --------------  -----  \n",
            " 0   Unnamed: 0  198 non-null    int64  \n",
            " 1   TV          198 non-null    float64\n",
            " 2   Radio       198 non-null    float64\n",
            " 3   Newspaper   198 non-null    float64\n",
            " 4   Sales       198 non-null    float64\n",
            "dtypes: float64(4), int64(1)\n",
            "memory usage: 9.3 KB\n"
          ]
        }
      ]
    },
    {
      "cell_type": "markdown",
      "source": [
        "## **DATA VISUALIZATION**"
      ],
      "metadata": {
        "id": "RcTwWn87N2It"
      }
    },
    {
      "cell_type": "markdown",
      "source": [
        "**Sales Vs  TV**\n"
      ],
      "metadata": {
        "id": "JvHHy5VvN2Gz"
      }
    },
    {
      "cell_type": "code",
      "source": [
        "# Plot TV vs Sales\n",
        "plt.figure(figsize=(14, 10))\n",
        "\n",
        "plt.subplot(3, 1, 1)\n",
        "sns.scatterplot(data=data, x='TV', y='Sales')\n",
        "plt.title('TV Advertising vs Sales')\n",
        "plt.xlabel('TV Advertising Spend')\n",
        "plt.ylabel('Sales')"
      ],
      "metadata": {
        "colab": {
          "base_uri": "https://localhost:8080/",
          "height": 236
        },
        "id": "D_WSM57OqMee",
        "outputId": "3094edaa-2146-4251-975a-15f7057af2d1"
      },
      "execution_count": 15,
      "outputs": [
        {
          "output_type": "execute_result",
          "data": {
            "text/plain": [
              "Text(0, 0.5, 'Sales')"
            ]
          },
          "metadata": {},
          "execution_count": 15
        },
        {
          "output_type": "display_data",
          "data": {
            "text/plain": [
              "<Figure size 1400x1000 with 1 Axes>"
            ],
            "image/png": "[encoded data removed]"
          },
          "metadata": {}
        }
      ]
    },
    {
      "cell_type": "markdown",
      "source": [
        "**Radio vs Sales**\n"
      ],
      "metadata": {
        "id": "3qVm_lgIOG_e"
      }
    },
    {
      "cell_type": "code",
      "source": [
        "# Plot Radio vs Sales\n",
        "plt.subplot(3, 1, 2)\n",
        "sns.lineplot(data=data, x='Radio', y='Sales')\n",
        "plt.title('Radio Advertising vs Sales')\n",
        "plt.xlabel('Radio Advertising Spend')\n",
        "plt.ylabel('Sales')"
      ],
      "metadata": {
        "colab": {
          "base_uri": "https://localhost:8080/",
          "height": 229
        },
        "id": "gxngGtXGqj-A",
        "outputId": "0cdb3918-dcdd-478e-e879-336f9ba26920"
      },
      "execution_count": 16,
      "outputs": [
        {
          "output_type": "execute_result",
          "data": {
            "text/plain": [
              "Text(0, 0.5, 'Sales')"
            ]
          },
          "metadata": {},
          "execution_count": 16
        },
        {
          "output_type": "display_data",
          "data": {
            "text/plain": [
              "<Figure size 640x480 with 1 Axes>"
            ],
            "image/png": "[encoded data removed]"
          },
          "metadata": {}
        }
      ]
    },
    {
      "cell_type": "markdown",
      "source": [
        "**Newspaper vs Sales**"
      ],
      "metadata": {
        "id": "E02VFAr6OJfa"
      }
    },
    {
      "cell_type": "code",
      "source": [
        "# Plot Newspaper vs Sales\n",
        "plt.subplot(3, 1, 3)\n",
        "sns.scatterplot(data=data, x='Newspaper', y='Sales')\n",
        "plt.title('Newspaper Advertising vs Sales')\n",
        "plt.xlabel('Newspaper Advertising Spend')\n",
        "plt.ylabel('Sales')"
      ],
      "metadata": {
        "colab": {
          "base_uri": "https://localhost:8080/",
          "height": 229
        },
        "id": "ExKwtMNbqw5o",
        "outputId": "3ced55ac-8507-4393-8aed-0f19e47f6579"
      },
      "execution_count": 17,
      "outputs": [
        {
          "output_type": "execute_result",
          "data": {
            "text/plain": [
              "Text(0, 0.5, 'Sales')"
            ]
          },
          "metadata": {},
          "execution_count": 17
        },
        {
          "output_type": "display_data",
          "data": {
            "text/plain": [
              "<Figure size 640x480 with 1 Axes>"
            ],
            "image/png": "[encoded data removed]"
          },
          "metadata": {}
        }
      ]
    },
    {
      "cell_type": "markdown",
      "source": [
        "**Correlation Matrix**"
      ],
      "metadata": {
        "id": "4tU604rBOPFC"
      }
    },
    {
      "cell_type": "code",
      "source": [
        "# Select only numeric columns for correlation matrix\n",
        "numeric_data = data.select_dtypes(include=[np.number])\n",
        "\n",
        "# Calculate the correlation matrix\n",
        "corr_matrix = numeric_data.corr()\n",
        "\n",
        "# Plot the correlation matrix\n",
        "plt.figure(figsize=(12, 8))\n",
        "sns.heatmap(corr_matrix, annot=True, cmap='coolwarm', fmt='.2f')\n",
        "plt.title('Correlation Matrix')\n",
        "plt.show()"
      ],
      "metadata": {
        "colab": {
          "base_uri": "https://localhost:8080/",
          "height": 580
        },
        "id": "zBFtIkX5pKKH",
        "outputId": "3e51a410-4202-4b73-eeb5-b82f86b89402"
      },
      "execution_count": 18,
      "outputs": [
        {
          "output_type": "display_data",
          "data": {
            "text/plain": [
              "<Figure size 1200x800 with 2 Axes>"
            ],
            "image/png": "[encoded data removed]"
          },
          "metadata": {}
        }
      ]
    },
    {
      "cell_type": "markdown",
      "source": [
        "## **FEATURE ENGINEERING**"
      ],
      "metadata": {
        "id": "x-RBWzw1Ozcf"
      }
    },
    {
      "cell_type": "code",
      "source": [
        "from sklearn.preprocessing import StandardScaler"
      ],
      "metadata": {
        "id": "UznMnGfbhSCn"
      },
      "execution_count": 19,
      "outputs": []
    },
    {
      "cell_type": "code",
      "source": [
        "scalerx = StandardScaler()\n",
        "scalery = StandardScaler()"
      ],
      "metadata": {
        "id": "BZ4M2RXuhXtP"
      },
      "execution_count": 20,
      "outputs": []
    },
    {
      "cell_type": "markdown",
      "source": [
        "### **MODEL SELECTION**"
      ],
      "metadata": {
        "id": "kxfMzCdBPK0S"
      }
    },
    {
      "cell_type": "code",
      "source": [
        "from sklearn.model_selection import train_test_split\n",
        "from sklearn.linear_model import LinearRegression\n",
        "from sklearn.tree import DecisionTreeRegressor\n",
        "from sklearn.svm import SVR\n",
        "from sklearn.ensemble import RandomForestRegressor\n",
        "from sklearn.metrics import mean_squared_error, r2_score,precision_recall_curve, roc_curve, roc_auc_score,auc\n",
        "from tensorflow.keras.models import Sequential\n",
        "from tensorflow.keras.layers import LSTM, Dense, Dropout"
      ],
      "metadata": {
        "id": "XeEbu8euj9tg"
      },
      "execution_count": 21,
      "outputs": []
    },
    {
      "cell_type": "code",
      "source": [
        "# Prepare the data for modeling\n",
        "X = data.drop(['Sales','Unnamed: 0'], axis=1)\n",
        "y = data['Sales']"
      ],
      "metadata": {
        "id": "HjkPWy2ikOvo"
      },
      "execution_count": 74,
      "outputs": []
    },
    {
      "cell_type": "markdown",
      "source": [
        "**Standard Scaler**"
      ],
      "metadata": {
        "id": "jFzH43iPPOwj"
      }
    },
    {
      "cell_type": "code",
      "source": [
        "X = scalerx.fit_transform(X)"
      ],
      "metadata": {
        "id": "7q-LM9ZLr6Xs"
      },
      "execution_count": 75,
      "outputs": []
    },
    {
      "cell_type": "code",
      "source": [
        "\n",
        "# Convert the y to a NumPy array\n",
        "y_array = y.values\n",
        "\n",
        "# Reshape the NumPy array to a 2D array with one column\n",
        "y_reshaped = y_array.reshape(-1, 1)\n",
        "\n",
        "# Use the reshaped array for fitting and transforming\n",
        "y = scalery.fit_transform(y_reshaped)\n"
      ],
      "metadata": {
        "id": "AP5_Idx_7SZA"
      },
      "execution_count": 76,
      "outputs": []
    },
    {
      "cell_type": "code",
      "source": [
        "data"
      ],
      "metadata": {
        "colab": {
          "base_uri": "https://localhost:8080/",
          "height": 423
        },
        "id": "lqJFQ9nR4WSO",
        "outputId": "5c5edd88-e428-4ca2-8a5b-ce3e8fddc7e4"
      },
      "execution_count": 77,
      "outputs": [
        {
          "output_type": "execute_result",
          "data": {
            "text/plain": [
              "     Unnamed: 0     TV  Radio  Newspaper  Sales\n",
              "0             1  230.1   37.8       69.2   22.1\n",
              "1             2   44.5   39.3       45.1   10.4\n",
              "2             3   17.2   45.9       69.3    9.3\n",
              "3             4  151.5   41.3       58.5   18.5\n",
              "4             5  180.8   10.8       58.4   12.9\n",
              "..          ...    ...    ...        ...    ...\n",
              "195         196   38.2    3.7       13.8    7.6\n",
              "196         197   94.2    4.9        8.1    9.7\n",
              "197         198  177.0    9.3        6.4   12.8\n",
              "198         199  283.6   42.0       66.2   25.5\n",
              "199         200  232.1    8.6        8.7   13.4\n",
              "\n",
              "[198 rows x 5 columns]"
            ],
            "text/html": [
              "\n",
              "  <div id=\"df-2e0635b8-5f25-4a4f-a286-d854215cc278\" class=\"colab-df-container\">\n",
              "    <div>\n",
              "<style scoped>\n",
              "    .dataframe tbody tr th:only-of-type {\n",
              "        vertical-align: middle;\n",
              "    }\n",
              "\n",
              "    .dataframe tbody tr th {\n",
              "        vertical-align: top;\n",
              "    }\n",
              "\n",
              "    .dataframe thead th {\n",
              "        text-align: right;\n",
              "    }\n",
              "</style>\n",
              "<table border=\"1\" class=\"dataframe\">\n",
              "  <thead>\n",
              "    <tr style=\"text-align: right;\">\n",
              "      <th></th>\n",
              "      <th>Unnamed: 0</th>\n",
              "      <th>TV</th>\n",
              "      <th>Radio</th>\n",
              "      <th>Newspaper</th>\n",
              "      <th>Sales</th>\n",
              "    </tr>\n",
              "  </thead>\n",
              "  <tbody>\n",
              "    <tr>\n",
              "      <th>0</th>\n",
              "      <td>1</td>\n",
              "      <td>230.1</td>\n",
              "      <td>37.8</td>\n",
              "      <td>69.2</td>\n",
              "      <td>22.1</td>\n",
              "    </tr>\n",
              "    <tr>\n",
              "      <th>1</th>\n",
              "      <td>2</td>\n",
              "      <td>44.5</td>\n",
              "      <td>39.3</td>\n",
              "      <td>45.1</td>\n",
              "      <td>10.4</td>\n",
              "    </tr>\n",
              "    <tr>\n",
              "      <th>2</th>\n",
              "      <td>3</td>\n",
              "      <td>17.2</td>\n",
              "      <td>45.9</td>\n",
              "      <td>69.3</td>\n",
              "      <td>9.3</td>\n",
              "    </tr>\n",
              "    <tr>\n",
              "      <th>3</th>\n",
              "      <td>4</td>\n",
              "      <td>151.5</td>\n",
              "      <td>41.3</td>\n",
              "      <td>58.5</td>\n",
              "      <td>18.5</td>\n",
              "    </tr>\n",
              "    <tr>\n",
              "      <th>4</th>\n",
              "      <td>5</td>\n",
              "      <td>180.8</td>\n",
              "      <td>10.8</td>\n",
              "      <td>58.4</td>\n",
              "      <td>12.9</td>\n",
              "    </tr>\n",
              "    <tr>\n",
              "      <th>...</th>\n",
              "      <td>...</td>\n",
              "      <td>...</td>\n",
              "      <td>...</td>\n",
              "      <td>...</td>\n",
              "      <td>...</td>\n",
              "    </tr>\n",
              "    <tr>\n",
              "      <th>195</th>\n",
              "      <td>196</td>\n",
              "      <td>38.2</td>\n",
              "      <td>3.7</td>\n",
              "      <td>13.8</td>\n",
              "      <td>7.6</td>\n",
              "    </tr>\n",
              "    <tr>\n",
              "      <th>196</th>\n",
              "      <td>197</td>\n",
              "      <td>94.2</td>\n",
              "      <td>4.9</td>\n",
              "      <td>8.1</td>\n",
              "      <td>9.7</td>\n",
              "    </tr>\n",
              "    <tr>\n",
              "      <th>197</th>\n",
              "      <td>198</td>\n",
              "      <td>177.0</td>\n",
              "      <td>9.3</td>\n",
              "      <td>6.4</td>\n",
              "      <td>12.8</td>\n",
              "    </tr>\n",
              "    <tr>\n",
              "      <th>198</th>\n",
              "      <td>199</td>\n",
              "      <td>283.6</td>\n",
              "      <td>42.0</td>\n",
              "      <td>66.2</td>\n",
              "      <td>25.5</td>\n",
              "    </tr>\n",
              "    <tr>\n",
              "      <th>199</th>\n",
              "      <td>200</td>\n",
              "      <td>232.1</td>\n",
              "      <td>8.6</td>\n",
              "      <td>8.7</td>\n",
              "      <td>13.4</td>\n",
              "    </tr>\n",
              "  </tbody>\n",
              "</table>\n",
              "<p>198 rows × 5 columns</p>\n",
              "</div>\n",
              "    <div class=\"colab-df-buttons\">\n",
              "\n",
              "  <div class=\"colab-df-container\">\n",
              "    <button class=\"colab-df-convert\" onclick=\"convertToInteractive('df-2e0635b8-5f25-4a4f-a286-d854215cc278')\"\n",
              "            title=\"Convert this dataframe to an interactive table.\"\n",
              "            style=\"display:none;\">\n",
              "\n",
              "  <svg xmlns=\"http://www.w3.org/2000/svg\" height=\"24px\" viewBox=\"0 -960 960 960\">\n",
              "    <path d=\"M120-120v-720h720v720H120Zm60-500h600v-160H180v160Zm220 220h160v-160H400v160Zm0 220h160v-160H400v160ZM180-400h160v-160H180v160Zm440 0h160v-160H620v160ZM180-180h160v-160H180v160Zm440 0h160v-160H620v160Z\"/>\n",
              "  </svg>\n",
              "    </button>\n",
              "\n",
              "  <style>\n",
              "    .colab-df-container {\n",
              "      display:flex;\n",
              "      gap: 12px;\n",
              "    }\n",
              "\n",
              "    .colab-df-convert {\n",
              "      background-color: #E8F0FE;\n",
              "      border: none;\n",
              "      border-radius: 50%;\n",
              "      cursor: pointer;\n",
              "      display: none;\n",
              "      fill: #1967D2;\n",
              "      height: 32px;\n",
              "      padding: 0 0 0 0;\n",
              "      width: 32px;\n",
              "    }\n",
              "\n",
              "    .colab-df-convert:hover {\n",
              "      background-color: #E2EBFA;\n",
              "      box-shadow: 0px 1px 2px rgba(60, 64, 67, 0.3), 0px 1px 3px 1px rgba(60, 64, 67, 0.15);\n",
              "      fill: #174EA6;\n",
              "    }\n",
              "\n",
              "    .colab-df-buttons div {\n",
              "      margin-bottom: 4px;\n",
              "    }\n",
              "\n",
              "    [theme=dark] .colab-df-convert {\n",
              "      background-color: #3B4455;\n",
              "      fill: #D2E3FC;\n",
              "    }\n",
              "\n",
              "    [theme=dark] .colab-df-convert:hover {\n",
              "      background-color: #434B5C;\n",
              "      box-shadow: 0px 1px 3px 1px rgba(0, 0, 0, 0.15);\n",
              "      filter: drop-shadow(0px 1px 2px rgba(0, 0, 0, 0.3));\n",
              "      fill: #FFFFFF;\n",
              "    }\n",
              "  </style>\n",
              "\n",
              "    <script>\n",
              "      const buttonEl =\n",
              "        document.querySelector('#df-2e0635b8-5f25-4a4f-a286-d854215cc278 button.colab-df-convert');\n",
              "      buttonEl.style.display =\n",
              "        google.colab.kernel.accessAllowed ? 'block' : 'none';\n",
              "\n",
              "      async function convertToInteractive(key) {\n",
              "        const element = document.querySelector('#df-2e0635b8-5f25-4a4f-a286-d854215cc278');\n",
              "        const dataTable =\n",
              "          await google.colab.kernel.invokeFunction('convertToInteractive',\n",
              "                                                    [key], {});\n",
              "        if (!dataTable) return;\n",
              "\n",
              "        const docLinkHtml = 'Like what you see? Visit the ' +\n",
              "          '<a target=\"_blank\" href=https://colab.research.google.com/notebooks/data_table.ipynb>data table notebook</a>'\n",
              "          + ' to learn more about interactive tables.';\n",
              "        element.innerHTML = '';\n",
              "        dataTable['output_type'] = 'display_data';\n",
              "        await google.colab.output.renderOutput(dataTable, element);\n",
              "        const docLink = document.createElement('div');\n",
              "        docLink.innerHTML = docLinkHtml;\n",
              "        element.appendChild(docLink);\n",
              "      }\n",
              "    </script>\n",
              "  </div>\n",
              "\n",
              "\n",
              "<div id=\"df-2e17ca78-d6e7-4e4b-92bf-164f1d6ecd5b\">\n",
              "  <button class=\"colab-df-quickchart\" onclick=\"quickchart('df-2e17ca78-d6e7-4e4b-92bf-164f1d6ecd5b')\"\n",
              "            title=\"Suggest charts\"\n",
              "            style=\"display:none;\">\n",
              "\n",
              "<svg xmlns=\"http://www.w3.org/2000/svg\" height=\"24px\"viewBox=\"0 0 24 24\"\n",
              "     width=\"24px\">\n",
              "    <g>\n",
              "        <path d=\"M19 3H5c-1.1 0-2 .9-2 2v14c0 1.1.9 2 2 2h14c1.1 0 2-.9 2-2V5c0-1.1-.9-2-2-2zM9 17H7v-7h2v7zm4 0h-2V7h2v10zm4 0h-2v-4h2v4z\"/>\n",
              "    </g>\n",
              "</svg>\n",
              "  </button>\n",
              "\n",
              "<style>\n",
              "  .colab-df-quickchart {\n",
              "      --bg-color: #E8F0FE;\n",
              "      --fill-color: #1967D2;\n",
              "      --hover-bg-color: #E2EBFA;\n",
              "      --hover-fill-color: #174EA6;\n",
              "      --disabled-fill-color: #AAA;\n",
              "      --disabled-bg-color: #DDD;\n",
              "  }\n",
              "\n",
              "  [theme=dark] .colab-df-quickchart {\n",
              "      --bg-color: #3B4455;\n",
              "      --fill-color: #D2E3FC;\n",
              "      --hover-bg-color: #434B5C;\n",
              "      --hover-fill-color: #FFFFFF;\n",
              "      --disabled-bg-color: #3B4455;\n",
              "      --disabled-fill-color: #666;\n",
              "  }\n",
              "\n",
              "  .colab-df-quickchart {\n",
              "    background-color: var(--bg-color);\n",
              "    border: none;\n",
              "    border-radius: 50%;\n",
              "    cursor: pointer;\n",
              "    display: none;\n",
              "    fill: var(--fill-color);\n",
              "    height: 32px;\n",
              "    padding: 0;\n",
              "    width: 32px;\n",
              "  }\n",
              "\n",
              "  .colab-df-quickchart:hover {\n",
              "    background-color: var(--hover-bg-color);\n",
              "    box-shadow: 0 1px 2px rgba(60, 64, 67, 0.3), 0 1px 3px 1px rgba(60, 64, 67, 0.15);\n",
              "    fill: var(--button-hover-fill-color);\n",
              "  }\n",
              "\n",
              "  .colab-df-quickchart-complete:disabled,\n",
              "  .colab-df-quickchart-complete:disabled:hover {\n",
              "    background-color: var(--disabled-bg-color);\n",
              "    fill: var(--disabled-fill-color);\n",
              "    box-shadow: none;\n",
              "  }\n",
              "\n",
              "  .colab-df-spinner {\n",
              "    border: 2px solid var(--fill-color);\n",
              "    border-color: transparent;\n",
              "    border-bottom-color: var(--fill-color);\n",
              "    animation:\n",
              "      spin 1s steps(1) infinite;\n",
              "  }\n",
              "\n",
              "  @keyframes spin {\n",
              "    0% {\n",
              "      border-color: transparent;\n",
              "      border-bottom-color: var(--fill-color);\n",
              "      border-left-color: var(--fill-color);\n",
              "    }\n",
              "    20% {\n",
              "      border-color: transparent;\n",
              "      border-left-color: var(--fill-color);\n",
              "      border-top-color: var(--fill-color);\n",
              "    }\n",
              "    30% {\n",
              "      border-color: transparent;\n",
              "      border-left-color: var(--fill-color);\n",
              "      border-top-color: var(--fill-color);\n",
              "      border-right-color: var(--fill-color);\n",
              "    }\n",
              "    40% {\n",
              "      border-color: transparent;\n",
              "      border-right-color: var(--fill-color);\n",
              "      border-top-color: var(--fill-color);\n",
              "    }\n",
              "    60% {\n",
              "      border-color: transparent;\n",
              "      border-right-color: var(--fill-color);\n",
              "    }\n",
              "    80% {\n",
              "      border-color: transparent;\n",
              "      border-right-color: var(--fill-color);\n",
              "      border-bottom-color: var(--fill-color);\n",
              "    }\n",
              "    90% {\n",
              "      border-color: transparent;\n",
              "      border-bottom-color: var(--fill-color);\n",
              "    }\n",
              "  }\n",
              "</style>\n",
              "\n",
              "  <script>\n",
              "    async function quickchart(key) {\n",
              "      const quickchartButtonEl =\n",
              "        document.querySelector('#' + key + ' button');\n",
              "      quickchartButtonEl.disabled = true;  // To prevent multiple clicks.\n",
              "      quickchartButtonEl.classList.add('colab-df-spinner');\n",
              "      try {\n",
              "        const charts = await google.colab.kernel.invokeFunction(\n",
              "            'suggestCharts', [key], {});\n",
              "      } catch (error) {\n",
              "        console.error('Error during call to suggestCharts:', error);\n",
              "      }\n",
              "      quickchartButtonEl.classList.remove('colab-df-spinner');\n",
              "      quickchartButtonEl.classList.add('colab-df-quickchart-complete');\n",
              "    }\n",
              "    (() => {\n",
              "      let quickchartButtonEl =\n",
              "        document.querySelector('#df-2e17ca78-d6e7-4e4b-92bf-164f1d6ecd5b button');\n",
              "      quickchartButtonEl.style.display =\n",
              "        google.colab.kernel.accessAllowed ? 'block' : 'none';\n",
              "    })();\n",
              "  </script>\n",
              "</div>\n",
              "\n",
              "  <div id=\"id_5b224107-29fe-44dc-b636-bab6988c3b10\">\n",
              "    <style>\n",
              "      .colab-df-generate {\n",
              "        background-color: #E8F0FE;\n",
              "        border: none;\n",
              "        border-radius: 50%;\n",
              "        cursor: pointer;\n",
              "        display: none;\n",
              "        fill: #1967D2;\n",
              "        height: 32px;\n",
              "        padding: 0 0 0 0;\n",
              "        width: 32px;\n",
              "      }\n",
              "\n",
              "      .colab-df-generate:hover {\n",
              "        background-color: #E2EBFA;\n",
              "        box-shadow: 0px 1px 2px rgba(60, 64, 67, 0.3), 0px 1px 3px 1px rgba(60, 64, 67, 0.15);\n",
              "        fill: #174EA6;\n",
              "      }\n",
              "\n",
              "      [theme=dark] .colab-df-generate {\n",
              "        background-color: #3B4455;\n",
              "        fill: #D2E3FC;\n",
              "      }\n",
              "\n",
              "      [theme=dark] .colab-df-generate:hover {\n",
              "        background-color: #434B5C;\n",
              "        box-shadow: 0px 1px 3px 1px rgba(0, 0, 0, 0.15);\n",
              "        filter: drop-shadow(0px 1px 2px rgba(0, 0, 0, 0.3));\n",
              "        fill: #FFFFFF;\n",
              "      }\n",
              "    </style>\n",
              "    <button class=\"colab-df-generate\" onclick=\"generateWithVariable('data')\"\n",
              "            title=\"Generate code using this dataframe.\"\n",
              "            style=\"display:none;\">\n",
              "\n",
              "  <svg xmlns=\"http://www.w3.org/2000/svg\" height=\"24px\"viewBox=\"0 0 24 24\"\n",
              "       width=\"24px\">\n",
              "    <path d=\"M7,19H8.4L18.45,9,17,7.55,7,17.6ZM5,21V16.75L18.45,3.32a2,2,0,0,1,2.83,0l1.4,1.43a1.91,1.91,0,0,1,.58,1.4,1.91,1.91,0,0,1-.58,1.4L9.25,21ZM18.45,9,17,7.55Zm-12,3A5.31,5.31,0,0,0,4.9,8.1,5.31,5.31,0,0,0,1,6.5,5.31,5.31,0,0,0,4.9,4.9,5.31,5.31,0,0,0,6.5,1,5.31,5.31,0,0,0,8.1,4.9,5.31,5.31,0,0,0,12,6.5,5.46,5.46,0,0,0,6.5,12Z\"/>\n",
              "  </svg>\n",
              "    </button>\n",
              "    <script>\n",
              "      (() => {\n",
              "      const buttonEl =\n",
              "        document.querySelector('#id_5b224107-29fe-44dc-b636-bab6988c3b10 button.colab-df-generate');\n",
              "      buttonEl.style.display =\n",
              "        google.colab.kernel.accessAllowed ? 'block' : 'none';\n",
              "\n",
              "      buttonEl.onclick = () => {\n",
              "        google.colab.notebook.generateWithVariable('data');\n",
              "      }\n",
              "      })();\n",
              "    </script>\n",
              "  </div>\n",
              "\n",
              "    </div>\n",
              "  </div>\n"
            ],
            "application/vnd.google.colaboratory.intrinsic+json": {
              "type": "dataframe",
              "variable_name": "data",
              "summary": "{\n  \"name\": \"data\",\n  \"rows\": 198,\n  \"fields\": [\n    {\n      \"column\": \"Unnamed: 0\",\n      \"properties\": {\n        \"dtype\": \"number\",\n        \"std\": 57,\n        \"min\": 1,\n        \"max\": 200,\n        \"num_unique_values\": 198,\n        \"samples\": [\n          67,\n          117,\n          18\n        ],\n        \"semantic_type\": \"\",\n        \"description\": \"\"\n      }\n    },\n    {\n      \"column\": \"TV\",\n      \"properties\": {\n        \"dtype\": \"number\",\n        \"std\": 85.44322077294936,\n        \"min\": 0.7,\n        \"max\": 293.6,\n        \"num_unique_values\": 188,\n        \"samples\": [\n          149.7,\n          164.5,\n          147.3\n        ],\n        \"semantic_type\": \"\",\n        \"description\": \"\"\n      }\n    },\n    {\n      \"column\": \"Radio\",\n      \"properties\": {\n        \"dtype\": \"number\",\n        \"std\": 14.86211107267686,\n        \"min\": 0.0,\n        \"max\": 49.6,\n        \"num_unique_values\": 165,\n        \"samples\": [\n          21.1,\n          49.0,\n          25.8\n        ],\n        \"semantic_type\": \"\",\n        \"description\": \"\"\n      }\n    },\n    {\n      \"column\": \"Newspaper\",\n      \"properties\": {\n        \"dtype\": \"number\",\n        \"std\": 20.44630304627875,\n        \"min\": 0.3,\n        \"max\": 89.4,\n        \"num_unique_values\": 170,\n        \"samples\": [\n          45.2,\n          7.4,\n          2.1\n        ],\n        \"semantic_type\": \"\",\n        \"description\": \"\"\n      }\n    },\n    {\n      \"column\": \"Sales\",\n      \"properties\": {\n        \"dtype\": \"number\",\n        \"std\": 5.19609726187436,\n        \"min\": 1.6,\n        \"max\": 27.0,\n        \"num_unique_values\": 121,\n        \"samples\": [\n          11.4,\n          21.2,\n          12.9\n        ],\n        \"semantic_type\": \"\",\n        \"description\": \"\"\n      }\n    }\n  ]\n}"
            }
          },
          "metadata": {},
          "execution_count": 77
        }
      ]
    },
    {
      "cell_type": "code",
      "source": [
        "X"
      ],
      "metadata": {
        "colab": {
          "base_uri": "https://localhost:8080/"
        },
        "id": "k8cLqJHk0I8P",
        "outputId": "217a5cc1-4ca7-47c1-8da9-70edc2e63f98"
      },
      "execution_count": 78,
      "outputs": [
        {
          "output_type": "execute_result",
          "data": {
            "text/plain": [
              "array([[ 0.97869734,  0.98952135,  1.93299778],\n",
              "       [-1.19901165,  1.09070498,  0.75131275],\n",
              "       [-1.51933199,  1.53591293,  1.93790103],\n",
              "       [ 0.05645636,  1.22561648,  1.40834924],\n",
              "       [ 0.40024339, -0.83178391,  1.40344598],\n",
              "       [-1.61906543,  1.73828018,  2.2173867 ],\n",
              "       [-1.04647815,  0.6522426 , -0.30779084],\n",
              "       [-0.31079737, -0.23817331, -0.89127846],\n",
              "       [-1.62023876, -1.41864895, -1.41102374],\n",
              "       [ 0.62317696, -1.38492107, -0.42056576],\n",
              "       [-0.94557138, -1.16906267, -0.27346804],\n",
              "       [ 0.79800381,  0.05863199, -1.26392602],\n",
              "       [-1.44189191,  0.80739083,  1.77119028],\n",
              "       [-0.57714432, -1.04764232, -1.10702179],\n",
              "       [ 0.67363035,  0.65898817,  0.79544207],\n",
              "       [ 0.57155024,  1.65733328,  1.13376683],\n",
              "       [ 1.58061798,  1.1109417 ,  1.27596129],\n",
              "       [-0.90919801, -0.17746313, -0.56276022],\n",
              "       [ 0.0071763 ,  0.05188642, -0.52353416],\n",
              "       [ 0.84141719,  0.30821827,  1.15828311],\n",
              "       [ 1.06435076, -1.21628169, -0.30779084],\n",
              "       [-1.56626537, -0.48775959,  0.97195933],\n",
              "       [ 0.95757732, -0.42030384, -0.17540289],\n",
              "       [-0.99015809, -0.71036356, -0.56276022],\n",
              "       [ 1.36355108, -1.32421089, -0.50392113],\n",
              "       [-0.04445042,  0.41614747, -0.84224589],\n",
              "       [ 1.0960308 , -0.43379499, -0.33721038],\n",
              "       [ 1.19811091,  0.26774482, -0.33721038],\n",
              "       [-0.89277132, -0.48101401,  0.54047269],\n",
              "       [ 1.71555146,  0.34869172,  0.65815086],\n",
              "       [-0.39645079, -0.38657596,  0.43260102],\n",
              "       [-0.58066432, -1.4591224 ,  0.01092089],\n",
              "       [ 1.39523112, -0.21119101, -1.44534654],\n",
              "       [-0.59826434, -1.46586797, -1.09721527],\n",
              "       [ 1.6897381 , -1.28373744, -1.04327944],\n",
              "       [ 1.41048447,  1.39425586, -1.21489345],\n",
              "       [-0.8446646 ,  1.77200806,  0.7807323 ],\n",
              "       [-1.21543833,  0.24076252,  0.26098702],\n",
              "       [ 0.95405731,  0.98277578,  0.10898604],\n",
              "       [ 0.65485699, -0.05604278,  0.08937301],\n",
              "       [ 0.35565668,  0.69271605,  0.43750428],\n",
              "       [ 1.7237648 ,  0.30821827, -1.37179768],\n",
              "       [ 0.70648372, -0.99367772, -0.16559637],\n",
              "       [-1.42663856,  0.17330677,  0.66305412],\n",
              "       [ 0.33336332, -0.04255163,  0.08446975],\n",
              "       [-0.66866442, -0.89249409,  0.29040656],\n",
              "       [ 1.09368413,  1.23910763, -0.5529537 ],\n",
              "       [ 0.94467064, -0.49450516,  0.98666911],\n",
              "       [-0.9361847 , -0.77107374,  0.34434239],\n",
              "       [ 0.62317696, -1.35119319,  0.23647073],\n",
              "       [-0.54311762, -0.91273082, -1.28353905],\n",
              "       [ 0.8179505 ,  1.25259878,  0.4816336 ],\n",
              "       [ 0.42136341,  1.55614966,  1.41815575],\n",
              "       [ 1.36120441,  0.3824196 , -0.6804384 ],\n",
              "       [ 0.61261695,  1.77200806,  1.4818981 ],\n",
              "       [-1.63549211,  0.33520057,  0.56989223],\n",
              "       [-0.12306383, -0.26515561, -0.64611559],\n",
              "       [ 0.75224376,  1.78549921,  0.38847171],\n",
              "       [ 0.75107043,  0.42963862, -1.00405338],\n",
              "       [-1.09341154, -1.42539452, -0.41075924],\n",
              "       [ 1.34477773,  1.32005453,  1.22202546],\n",
              "       [ 1.08664412, -0.51474189, -0.12146706],\n",
              "       [-0.51613092,  0.4363842 , -1.0481827 ],\n",
              "       [-0.1829039 ,  1.32680011, -0.04301494],\n",
              "       [-0.91154467, -0.93296754, -1.415927  ],\n",
              "       [-1.35154514,  0.09910544, -1.35218465],\n",
              "       [-0.08669046, -0.58219764, -0.95992407],\n",
              "       [ 1.06435076,  0.29472712, -0.92069801],\n",
              "       [ 0.82264384,  1.40100143, -0.12637031],\n",
              "       [ 0.61496362,  0.50383995,  0.43750428],\n",
              "       [-0.43282416, -0.59568879,  0.09427627],\n",
              "       [-1.40669187,  0.66573375, -0.51372765],\n",
              "       [-0.20285059, -1.17580824,  0.07466324],\n",
              "       [ 0.78275046,  0.09910544, -0.8177296 ],\n",
              "       [-1.52285199,  1.38751028,  2.92345576],\n",
              "       [-1.39847853, -1.45237682, -0.44508204],\n",
              "       [-0.30727736,  0.36218287, -0.76379377],\n",
              "       [-1.65778547,  0.45662092, -0.99915012],\n",
              "       [-0.36007742, -1.04089674, -0.32740387],\n",
              "       [-0.82471792,  0.24076252, -0.36662993],\n",
              "       [ 1.09251079, -1.28373744,  0.34924565],\n",
              "       [-0.8376246 , -0.19095428,  0.13350233],\n",
              "       [-0.91858468,  1.44147488,  0.2855033 ],\n",
              "       [ 0.7839238 ,  1.34029126,  0.19724467],\n",
              "       [ 0.54573688, -0.31912021,  1.76138377],\n",
              "       [-0.82589125,  0.29472712, -0.67553514],\n",
              "       [-0.42226415,  1.17839745,  1.63880233],\n",
              "       [-0.6850911 ,  0.15981562,  2.13893458],\n",
              "       [-0.43282416,  1.66407886,  1.06021797],\n",
              "       [-0.14535719, -1.22977284, -1.00405338],\n",
              "       [-1.38557185, -1.4591224 ,  0.15801861],\n",
              "       [ 0.83320385,  0.69946162,  1.43286552],\n",
              "       [ 1.22275093,  0.90182888,  2.08499875],\n",
              "       [-0.46098419, -0.61592551, -0.92560126],\n",
              "       [ 0.19490984,  0.5712957 ,  1.13376683],\n",
              "       [ 0.5973636 , -1.32421089, -1.17076413],\n",
              "       [ 0.44835011, -0.14373526, -0.3813397 ],\n",
              "       [ 1.67800475,  1.29307223,  1.05041145],\n",
              "       [-0.13479718,  1.25259878,  0.79053881],\n",
              "       [ 0.88835058, -1.27024629,  0.98176585],\n",
              "       [ 1.56653796, -0.87900294, -0.41075924],\n",
              "       [ 0.48355014, -0.40006711, -0.58237325],\n",
              "       [ 1.07373744,  0.75342622, -1.20018368],\n",
              "       [-0.10311715,  1.56964081,  1.43286552],\n",
              "       [-1.42781189, -0.81829276, -0.00378888],\n",
              "       [-0.66045107, -1.5400693 , -0.32250061],\n",
              "       [-1.56743871, -1.53332372, -0.20482243],\n",
              "       [ 1.27555099,  0.25425367, -1.19037716],\n",
              "       [ 0.92824395, -1.00716887,  1.31028409],\n",
              "       [ 1.11480415,  1.0030125 , -0.32250061],\n",
              "       [ 0.34040333, -0.52148746, -1.34237814],\n",
              "       [ 0.73816375, -0.17071756, -0.93540778],\n",
              "       [-0.80359789,  1.59662311,  0.23156747],\n",
              "       [-0.83997127,  0.80064525,  1.12396031],\n",
              "       [-0.0878638 , -0.59568879, -0.20482243],\n",
              "       [-0.82471792, -1.50634142, -0.73437423],\n",
              "       [-0.24626397,  0.92881118,  2.42332351],\n",
              "       [-1.49351863, -0.48101401, -0.36662993],\n",
              "       [-0.06322377,  0.2475081 ,  0.80524858],\n",
              "       [-1.50055864, -0.09651623,  1.01118539],\n",
              "       [ 0.90712393, -1.39841222, -0.69514817],\n",
              "       [-0.27677067,  0.77366295, -0.8520524 ],\n",
              "       [ 0.97165733,  0.61851472,  2.17816064],\n",
              "       [-0.69799778, -0.76432816, -0.19011266],\n",
              "       [-1.62962544,  1.06372268,  1.02099191],\n",
              "       [-0.7801312 , -1.56030602, -1.00895664],\n",
              "       [ 0.86371055,  1.74502576, -1.30315208],\n",
              "       [-1.02183813, -0.75083701,  0.65324761],\n",
              "       [-1.7129322 ,  1.1109417 , -1.03347293],\n",
              "       [ 1.39053778, -1.36468434,  0.64834435],\n",
              "       [-1.62258543,  0.2744904 , -1.35708791],\n",
              "       [ 0.85784388,  0.69946162,  0.75131275],\n",
              "       [-1.28818508,  1.04348595,  1.75648051],\n",
              "       [-1.15442493,  1.61011426, -1.04327944],\n",
              "       [-1.42077188,  1.07046825, -1.00405338],\n",
              "       [ 1.49027122,  0.38916517,  1.46718833],\n",
              "       [-1.21661167,  0.18679792, -0.45488856],\n",
              "       [ 0.44835011,  1.40100143, -1.37670094],\n",
              "       [-0.85991795, -0.41355826, -0.82753612],\n",
              "       [ 0.55160355,  0.82762755,  2.24680625],\n",
              "       [ 0.86605722,  0.6792249 ,  0.39827822],\n",
              "       [-0.49383756, -1.17580824,  0.22666422],\n",
              "       [-0.59239767, -0.56196091,  0.4473108 ],\n",
              "       [-0.07495712, -1.4321401 , -1.01876315],\n",
              "       [ 1.0960308 , -1.06787904, -1.03347293],\n",
              "       [ 1.13240417,  1.74502576,  0.71208669],\n",
              "       [-1.2752784 ,  1.15816073, -0.87656869],\n",
              "       [-1.19666498,  0.18005234, -0.4499853 ],\n",
              "       [ 1.57240464, -0.62267109,  0.35414891],\n",
              "       [-0.30141069, -0.99367772,  0.92783002],\n",
              "       [ 0.5973636 ,  0.01141297, -0.76379377],\n",
              "       [ 0.2887766 ,  1.11768728,  0.38847171],\n",
              "       [ 0.48237681, -0.13698968, -0.99424687],\n",
              "       [-1.67303882, -0.77781931, -1.18057065],\n",
              "       [-0.61938436,  1.37401913,  1.01608865],\n",
              "       [ 0.03650967, -1.47261355, -0.26856478],\n",
              "       [-1.58386539,  0.92881118,  0.75621601],\n",
              "       [-0.17586389, -0.31912021,  0.23647073],\n",
              "       [ 0.30285662, -0.33935694,  0.04524369],\n",
              "       [-0.7155978 ,  0.85460985,  0.95724956],\n",
              "       [ 0.48941682, -0.33935694, -0.20482243],\n",
              "       [ 0.19725651,  0.9220656 , -1.09721527],\n",
              "       [-0.34599741, -0.56870649, -1.19528042],\n",
              "       [ 1.03032406, -1.33095647,  2.69790592],\n",
              "       [-1.51111865,  0.9760302 , -0.40095273],\n",
              "       [ 0.70531038, -1.20953612, -0.50882439],\n",
              "       [ 0.80621716,  0.03164969,  1.36421992],\n",
              "       [ 1.61464468, -0.84527507, -1.14624784],\n",
              "       [-1.13447825, -0.77781931, -0.55785696],\n",
              "       [ 0.20898985, -0.15048083,  0.86408767],\n",
              "       [-1.49117196, -0.20444543, -0.62650256],\n",
              "       [ 0.2547499 , -1.08137019, -0.83243937],\n",
              "       [ 0.88835058, -1.33095647, -0.8177296 ],\n",
              "       [ 1.52781792,  1.73828018,  0.58950526],\n",
              "       [ 1.19341757,  0.47685765, -0.46469507],\n",
              "       [ 0.27586992, -1.03415117,  0.26589027],\n",
              "       [ 1.52547125, -1.4051578 , -0.29798432],\n",
              "       [ 0.22189653, -0.88574852, -0.59708302],\n",
              "       [ 0.11629642, -1.38492107, -1.05308596],\n",
              "       [ 0.84259053, -1.19604497, -0.1165638 ],\n",
              "       [-1.0617315 , -1.17580824, -0.00378888],\n",
              "       [ 1.65336472,  1.34029126,  2.06048247],\n",
              "       [ 1.25677764, -0.12349853,  0.01092089],\n",
              "       [ 0.68419036,  1.48194833, -0.49901787],\n",
              "       [-0.08434379, -1.41864895, -0.15578986],\n",
              "       [ 0.52109685,  0.37567402, -0.56766348],\n",
              "       [ 1.63459137, -0.62267109, -1.27863579],\n",
              "       [-1.50173197, -0.74409144, -0.31269409],\n",
              "       [-1.25767838,  1.21212533, -1.17566739],\n",
              "       [-0.83527793, -0.83178391, -1.16586087],\n",
              "       [-1.51933199, -1.28373744,  0.08937301],\n",
              "       [ 0.23597655,  1.2728355 , -1.28353905],\n",
              "       [ 0.03533633,  0.8411187 , -1.16586087],\n",
              "       [-1.27293173, -1.31071974, -0.7834068 ],\n",
              "       [-0.61586436, -1.22977284, -1.06289247],\n",
              "       [ 0.35565668, -0.93296754, -1.14624784],\n",
              "       [ 1.60643134,  1.2728355 ,  1.78590005],\n",
              "       [ 1.00216403, -0.98018657, -1.03347293]])"
            ]
          },
          "metadata": {},
          "execution_count": 78
        }
      ]
    },
    {
      "cell_type": "code",
      "source": [
        "\n",
        "# Split the data into training and testing sets\n",
        "X_train, X_test, y_train, y_test = train_test_split(X, y, test_size=0.2, random_state=42)"
      ],
      "metadata": {
        "id": "gb0duH2QkQwh"
      },
      "execution_count": 79,
      "outputs": []
    },
    {
      "cell_type": "markdown",
      "source": [
        "# **Linear Regression**"
      ],
      "metadata": {
        "id": "fP1uJP0UPv_a"
      }
    },
    {
      "cell_type": "code",
      "source": [
        "# Initialize the models\n",
        "linear_model = LinearRegression()\n",
        "\n",
        "# Train the models\n",
        "linear_model.fit(X_train, y_train)\n",
        "\n",
        "# Make predictions\n",
        "y_linear_pred = linear_model.predict(X_test)\n"
      ],
      "metadata": {
        "id": "sGVF_PnCkS9o"
      },
      "execution_count": 80,
      "outputs": []
    },
    {
      "cell_type": "code",
      "source": [
        "y_linear_pred"
      ],
      "metadata": {
        "colab": {
          "base_uri": "https://localhost:8080/"
        },
        "id": "_KDBB2V0kXH6",
        "outputId": "d91f26e9-5e99-49ba-a330-79bb55234519"
      },
      "execution_count": 81,
      "outputs": [
        {
          "output_type": "execute_result",
          "data": {
            "text/plain": [
              "array([[-0.97979651],\n",
              "       [-0.37965548],\n",
              "       [ 1.78095878],\n",
              "       [-0.97566991],\n",
              "       [-0.67789475],\n",
              "       [ 1.52738778],\n",
              "       [ 1.00687996],\n",
              "       [-0.48742086],\n",
              "       [ 0.02253661],\n",
              "       [ 0.73766566],\n",
              "       [ 0.04962286],\n",
              "       [ 1.31270799],\n",
              "       [-1.02966796],\n",
              "       [-0.24215648],\n",
              "       [-1.41326146],\n",
              "       [-0.95662762],\n",
              "       [-0.63629213],\n",
              "       [-0.26684644],\n",
              "       [-0.80447549],\n",
              "       [-0.47337079],\n",
              "       [-0.18420284],\n",
              "       [ 0.60648331],\n",
              "       [ 1.71357842],\n",
              "       [-1.51075362],\n",
              "       [ 0.61815095],\n",
              "       [ 1.34072333],\n",
              "       [-1.14577838],\n",
              "       [ 0.12599563],\n",
              "       [-1.36847106],\n",
              "       [-0.32853535],\n",
              "       [ 0.72941601],\n",
              "       [-0.05422203],\n",
              "       [-1.4137023 ],\n",
              "       [ 0.07500508],\n",
              "       [ 0.31381052],\n",
              "       [ 0.81457571],\n",
              "       [ 0.25141945],\n",
              "       [-0.39067128],\n",
              "       [ 0.81008589],\n",
              "       [ 0.43559514]])"
            ]
          },
          "metadata": {},
          "execution_count": 81
        }
      ]
    },
    {
      "cell_type": "code",
      "source": [
        "# Evaluate the models\n",
        "mse_lr = mean_squared_error(y_test, y_linear_pred)\n",
        "\n",
        "r2_lr = r2_score(y_test, y_linear_pred)\n",
        "\n",
        "# Display the results\n",
        "print(f'Linear Regression - MSE: {mse_lr}, R2: {r2_lr}')"
      ],
      "metadata": {
        "colab": {
          "base_uri": "https://localhost:8080/"
        },
        "id": "EYCGzVWjlNIp",
        "outputId": "d6c86159-9abc-4433-c109-2187f82cdb30"
      },
      "execution_count": 82,
      "outputs": [
        {
          "output_type": "stream",
          "name": "stdout",
          "text": [
            "Linear Regression - MSE: 0.10203272795797011, R2: 0.8989454779619588\n"
          ]
        }
      ]
    },
    {
      "cell_type": "markdown",
      "source": [
        "**Residual Plot**"
      ],
      "metadata": {
        "id": "45_5ozQgSXGU"
      }
    },
    {
      "cell_type": "code",
      "source": [
        "# Residual plot\n",
        "plt.figure(figsize=(12, 6))\n",
        "plt.scatter(y_linear_pred, y_linear_pred - y_test, c='orange', marker='s', label='Test data')\n",
        "plt.xlabel('Predicted values')\n",
        "plt.ylabel('Residuals')\n",
        "plt.legend(loc='upper left')\n",
        "plt.hlines(y=0, xmin=y_linear_pred.min(), xmax=y_linear_pred.max(), color='red')\n",
        "plt.title('Residual Plot')\n",
        "plt.show()"
      ],
      "metadata": {
        "colab": {
          "base_uri": "https://localhost:8080/",
          "height": 417
        },
        "id": "K5EeR08XQcnD",
        "outputId": "fead788b-d400-4098-ac43-b5f885935e56"
      },
      "execution_count": 83,
      "outputs": [
        {
          "output_type": "display_data",
          "data": {
            "text/plain": [
              "<Figure size 1200x600 with 1 Axes>"
            ],
            "image/png": "[encoded data removed]"
          },
          "metadata": {}
        }
      ]
    },
    {
      "cell_type": "markdown",
      "source": [
        "**Predicted vs Actual plot**"
      ],
      "metadata": {
        "id": "GOHATyqLSbdj"
      }
    },
    {
      "cell_type": "code",
      "source": [
        "# Predicted vs Actual plot\n",
        "plt.figure(figsize=(12, 6))\n",
        "plt.scatter(y_test, y_linear_pred, c='orange', marker='s', label='Test data')\n",
        "plt.xlabel('Actual values')\n",
        "plt.ylabel('Predicted values')\n",
        "plt.legend(loc='upper left')\n",
        "plt.plot([y.min(), y.max()], [y.min(), y.max()], color='red')\n",
        "plt.title('Predicted vs Actual Plot')\n",
        "plt.show()"
      ],
      "metadata": {
        "colab": {
          "base_uri": "https://localhost:8080/",
          "height": 422
        },
        "id": "IIityh4OSQnN",
        "outputId": "d3401af4-c594-4842-821e-f62c63f86e92"
      },
      "execution_count": 84,
      "outputs": [
        {
          "output_type": "display_data",
          "data": {
            "text/plain": [
              "<Figure size 1200x600 with 1 Axes>"
            ],
            "image/png": "[encoded data removed]"
          },
          "metadata": {}
        }
      ]
    },
    {
      "cell_type": "markdown",
      "source": [
        "# **Decision Tree Regressor**"
      ],
      "metadata": {
        "id": "omZKCM6XP4oi"
      }
    },
    {
      "cell_type": "code",
      "source": [
        "decision_model = DecisionTreeRegressor()\n",
        "\n",
        "decision_model.fit(X_train, y_train)\n",
        "\n",
        "y_decision_pred = decision_model.predict(X_test)"
      ],
      "metadata": {
        "id": "2mShgcJwln51"
      },
      "execution_count": 85,
      "outputs": []
    },
    {
      "cell_type": "code",
      "source": [
        "y_decision_pred"
      ],
      "metadata": {
        "colab": {
          "base_uri": "https://localhost:8080/"
        },
        "id": "a-xGkDXyZiw8",
        "outputId": "fb0f1ca0-27f7-408a-9f6f-a0e75c45ecf7"
      },
      "execution_count": 86,
      "outputs": [
        {
          "output_type": "execute_result",
          "data": {
            "text/plain": [
              "array([-0.99958496, -0.20853108,  2.22251256, -0.82593899, -1.61699287,\n",
              "        1.89451461,  1.08416673, -0.30500107,  0.17734886,  0.15805487,\n",
              "       -0.20853108,  1.87522061, -1.61699287, -0.11206109, -1.01887896,\n",
              "       -0.63299902, -1.61699287, -0.47864704, -0.84523299, -0.42076505,\n",
              "       -0.13135509,  0.64040479,  2.20321856, -1.23111293,  0.65969879,\n",
              "        1.48934067, -1.23111293, -0.32429506, -1.23111293, -0.20853108,\n",
              "        0.94910875,  0.19664286, -0.90311498, -0.51723504, -0.24711907,\n",
              "        0.87193276,  0.50534681, -0.20853108,  0.94910875,  0.37028883])"
            ]
          },
          "metadata": {},
          "execution_count": 86
        }
      ]
    },
    {
      "cell_type": "code",
      "source": [
        "y_decision_pred= y_decision_pred.reshape(-1,1)"
      ],
      "metadata": {
        "id": "kCW9zHWPlz35"
      },
      "execution_count": 87,
      "outputs": []
    },
    {
      "cell_type": "code",
      "source": [
        "mse_dt = mean_squared_error(y_test, y_decision_pred)\n",
        "\n",
        "r2_dt = r2_score(y_test, y_decision_pred)\n",
        "\n",
        "\n",
        "print(f'Decision Tree - MSE: {mse_dt}, R2: {r2_dt}')"
      ],
      "metadata": {
        "colab": {
          "base_uri": "https://localhost:8080/"
        },
        "id": "jnIkDlV-l3WT",
        "outputId": "2842a49d-b6f6-47fb-9cf7-f4f718e33601"
      },
      "execution_count": 88,
      "outputs": [
        {
          "output_type": "stream",
          "name": "stdout",
          "text": [
            "Decision Tree - MSE: 0.030245989031426078, R2: 0.9700439846477725\n"
          ]
        }
      ]
    },
    {
      "cell_type": "markdown",
      "source": [
        "**Residual PLot**"
      ],
      "metadata": {
        "id": "lDj7rLLoWCwc"
      }
    },
    {
      "cell_type": "code",
      "source": [
        "# Residual plot\n",
        "plt.figure(figsize=(12, 6))\n",
        "plt.scatter(y_decision_pred,(y_decision_pred - y_test), c='orange', marker='s', label='Test data')\n",
        "plt.xlabel('Predicted values')\n",
        "plt.ylabel('Residuals')\n",
        "plt.legend(loc='upper left')\n",
        "plt.hlines(y=0, xmin=y_decision_pred.min(), xmax=y_decision_pred.max(), color='red')\n",
        "plt.title('Residual Plot')\n",
        "plt.show()"
      ],
      "metadata": {
        "colab": {
          "base_uri": "https://localhost:8080/",
          "height": 417
        },
        "id": "g0YSErx-Se64",
        "outputId": "57651798-2b95-4889-e86e-0d003ab6cfea"
      },
      "execution_count": 89,
      "outputs": [
        {
          "output_type": "display_data",
          "data": {
            "text/plain": [
              "<Figure size 1200x600 with 1 Axes>"
            ],
            "image/png": "[encoded data removed]"
          },
          "metadata": {}
        }
      ]
    },
    {
      "cell_type": "markdown",
      "source": [
        "**Predicted vs Actual plot**"
      ],
      "metadata": {
        "id": "iS2uafEsWGwE"
      }
    },
    {
      "cell_type": "code",
      "source": [
        "# Predicted vs Actual plot\n",
        "plt.figure(figsize=(12, 6))\n",
        "plt.scatter(y_test, y_decision_pred, c='orange', marker='s', label='Test data')\n",
        "plt.xlabel('Actual values')\n",
        "plt.ylabel('Predicted values')\n",
        "plt.legend(loc='upper left')\n",
        "plt.plot([y.min(), y.max()], [y.min(), y.max()], color='red')\n",
        "plt.title('Predicted vs Actual Plot')\n",
        "plt.show()"
      ],
      "metadata": {
        "colab": {
          "base_uri": "https://localhost:8080/",
          "height": 422
        },
        "id": "ao-qO3WNTEg0",
        "outputId": "3decf211-73ae-4d68-9392-5414a22b4bee"
      },
      "execution_count": 90,
      "outputs": [
        {
          "output_type": "display_data",
          "data": {
            "text/plain": [
              "<Figure size 1200x600 with 1 Axes>"
            ],
            "image/png": "[encoded data removed]"
          },
          "metadata": {}
        }
      ]
    },
    {
      "cell_type": "markdown",
      "source": [
        "# **Random Forest Regressor**"
      ],
      "metadata": {
        "id": "ziETZL5eP9y7"
      }
    },
    {
      "cell_type": "code",
      "source": [
        "random_model = RandomForestRegressor()\n",
        "\n",
        "random_model.fit(X_train, y_train)\n",
        "\n",
        "y_random_pred = random_model.predict(X_test)"
      ],
      "metadata": {
        "id": "LnOn6UAvhHXG",
        "colab": {
          "base_uri": "https://localhost:8080/"
        },
        "outputId": "413c4fc5-676d-42fc-d2d7-14fe5826363f"
      },
      "execution_count": 91,
      "outputs": [
        {
          "output_type": "stream",
          "name": "stderr",
          "text": [
            "<ipython-input-91-bf93474fa3dc>:3: DataConversionWarning: A column-vector y was passed when a 1d array was expected. Please change the shape of y to (n_samples,), for example using ravel().\n",
            "  random_model.fit(X_train, y_train)\n"
          ]
        }
      ]
    },
    {
      "cell_type": "code",
      "source": [
        "y_random_pred"
      ],
      "metadata": {
        "colab": {
          "base_uri": "https://localhost:8080/"
        },
        "id": "4XngmQPDmPB8",
        "outputId": "8019941d-1d29-48e3-b70a-b4f89cbe5a2e"
      },
      "execution_count": 92,
      "outputs": [
        {
          "output_type": "execute_result",
          "data": {
            "text/plain": [
              "array([-1.05302934, -0.16627723,  1.79688698, -0.67351641, -1.50778885,\n",
              "        1.77199773,  1.05233163, -0.31098221,  0.29793635,  0.07605538,\n",
              "        0.08087888,  1.66877484, -1.59596242, -0.07231546, -0.93958063,\n",
              "       -0.72889018, -1.56798612, -0.46089656, -0.79333213, -0.38179117,\n",
              "       -0.12383043,  0.70446087,  2.12064026, -1.30828892,  0.62940722,\n",
              "        1.5763566 , -1.21760713, -0.36577716, -1.27027974, -0.25483667,\n",
              "        0.85302464,  0.12679859, -0.92800423, -0.21374046, -0.33046914,\n",
              "        0.98248736,  0.24140493, -0.26506249,  0.98248736,  0.48856104])"
            ]
          },
          "metadata": {},
          "execution_count": 92
        }
      ]
    },
    {
      "cell_type": "code",
      "source": [
        "y_random_pred = y_random_pred.reshape(-1,1)"
      ],
      "metadata": {
        "id": "LyZZWRHqWLz8"
      },
      "execution_count": 93,
      "outputs": []
    },
    {
      "cell_type": "code",
      "source": [
        "mse_rf = mean_squared_error(y_test, y_random_pred)\n",
        "\n",
        "r2_rf = r2_score(y_test, y_random_pred)\n",
        "\n",
        "print(f'Random Forest - MSE: {mse_rf}, R2: {r2_rf}')"
      ],
      "metadata": {
        "colab": {
          "base_uri": "https://localhost:8080/"
        },
        "id": "ZyBqSBfUmWBo",
        "outputId": "695d57a8-3384-4594-b861-8d63c0c3c73d"
      },
      "execution_count": 94,
      "outputs": [
        {
          "output_type": "stream",
          "name": "stdout",
          "text": [
            "Random Forest - MSE: 0.016377123511370224, R2: 0.9837798868860861\n"
          ]
        }
      ]
    },
    {
      "cell_type": "markdown",
      "source": [
        "**Residual Plot**"
      ],
      "metadata": {
        "id": "_TLIcuvlWW_c"
      }
    },
    {
      "cell_type": "code",
      "source": [
        "# Residual plot\n",
        "plt.figure(figsize=(12, 6))\n",
        "plt.scatter(y_random_pred,(y_random_pred - y_test), c='orange', marker='s', label='Test data')\n",
        "plt.xlabel('Predicted values')\n",
        "plt.ylabel('Residuals')\n",
        "plt.legend(loc='upper left')\n",
        "plt.hlines(y=0, xmin=y_random_pred.min(), xmax=y_random_pred.max(), color='red')\n",
        "plt.title('Residual Plot')\n",
        "plt.show()"
      ],
      "metadata": {
        "colab": {
          "base_uri": "https://localhost:8080/",
          "height": 417
        },
        "id": "mE1ZzyYYUHXN",
        "outputId": "c3d18bb1-8a28-4b3f-e1d7-461c93c7cc60"
      },
      "execution_count": 95,
      "outputs": [
        {
          "output_type": "display_data",
          "data": {
            "text/plain": [
              "<Figure size 1200x600 with 1 Axes>"
            ],
            "image/png": "[encoded data removed]"
          },
          "metadata": {}
        }
      ]
    },
    {
      "cell_type": "markdown",
      "source": [
        "**Predicted vs Actual plot**"
      ],
      "metadata": {
        "id": "LUCg3h6YWeQN"
      }
    },
    {
      "cell_type": "code",
      "source": [
        "# Predicted vs Actual plot\n",
        "plt.figure(figsize=(12, 6))\n",
        "plt.scatter(y_test, y_random_pred, c='orange', marker='s', label='Test data')\n",
        "plt.xlabel('Actual values')\n",
        "plt.ylabel('Predicted values')\n",
        "plt.legend(loc='upper left')\n",
        "plt.plot([y.min(), y.max()], [y.min(), y.max()], color='red')\n",
        "plt.title('Predicted vs Actual Plot')\n",
        "plt.show()"
      ],
      "metadata": {
        "colab": {
          "base_uri": "https://localhost:8080/",
          "height": 422
        },
        "id": "SEMF8qBUWa5d",
        "outputId": "09502bca-81e4-4be7-eb27-0ba11d09b769"
      },
      "execution_count": 96,
      "outputs": [
        {
          "output_type": "display_data",
          "data": {
            "text/plain": [
              "<Figure size 1200x600 with 1 Axes>"
            ],
            "image/png": "[encoded data removed]"
          },
          "metadata": {}
        }
      ]
    },
    {
      "cell_type": "markdown",
      "source": [
        "# **Support Vector Regression (SVR)**"
      ],
      "metadata": {
        "id": "RenJHlNBQDyy"
      }
    },
    {
      "cell_type": "code",
      "source": [
        "svr = SVR(kernel='linear')\n",
        "\n",
        "svr.fit(X_train, y_train)\n",
        "\n",
        "y_svr_pred = svr.predict(X_test)"
      ],
      "metadata": {
        "id": "FfaobBr2mRjb",
        "colab": {
          "base_uri": "https://localhost:8080/"
        },
        "outputId": "19172cde-33fe-4b11-e0ff-f7f617f264dd"
      },
      "execution_count": 97,
      "outputs": [
        {
          "output_type": "stream",
          "name": "stderr",
          "text": [
            "/usr/local/lib/python3.10/dist-packages/sklearn/utils/validation.py:1143: DataConversionWarning: A column-vector y was passed when a 1d array was expected. Please change the shape of y to (n_samples, ), for example using ravel().\n",
            "  y = column_or_1d(y, warn=True)\n"
          ]
        }
      ]
    },
    {
      "cell_type": "code",
      "source": [
        "y_svr_pred"
      ],
      "metadata": {
        "colab": {
          "base_uri": "https://localhost:8080/"
        },
        "id": "DAM3B6yaWsHc",
        "outputId": "bff6cc1e-4fda-4153-9495-b68c1a533882"
      },
      "execution_count": 98,
      "outputs": [
        {
          "output_type": "execute_result",
          "data": {
            "text/plain": [
              "array([-0.80867847, -0.31583662,  1.75297193, -0.9023561 , -0.50234328,\n",
              "        1.58850517,  1.0268428 , -0.40794024,  0.09645323,  0.70044541,\n",
              "        0.09043131,  1.3607249 , -0.85973873, -0.16445151, -1.31338566,\n",
              "       -0.86767767, -0.45855387, -0.26031554, -0.65274334, -0.3402055 ,\n",
              "       -0.06273991,  0.6918036 ,  1.70514386, -1.35878744,  0.64741567,\n",
              "        1.38349032, -0.99796347,  0.06938918, -1.2114049 , -0.30182207,\n",
              "        0.76150704,  0.04842761, -1.31429299,  0.22383682,  0.2755822 ,\n",
              "        0.90634274,  0.29193774, -0.35000308,  0.81527374,  0.47429483])"
            ]
          },
          "metadata": {},
          "execution_count": 98
        }
      ]
    },
    {
      "cell_type": "code",
      "source": [
        "y_svr_pred = y_svr_pred.reshape(-1,1)"
      ],
      "metadata": {
        "id": "ZiXHGRVTWsFV"
      },
      "execution_count": 99,
      "outputs": []
    },
    {
      "cell_type": "code",
      "source": [
        "mse_svr = mean_squared_error(y_test, y_svr_pred)\n",
        "\n",
        "r2_svr = r2_score(y_test, y_random_pred)\n",
        "\n",
        "print(f'Random Forest - MSE: {mse_svr}, R2: {r2_svr}')"
      ],
      "metadata": {
        "colab": {
          "base_uri": "https://localhost:8080/"
        },
        "id": "xaGr_e0_nD7D",
        "outputId": "ee8ec4d4-f4a3-4d8d-e4c3-8468a11076f4"
      },
      "execution_count": 100,
      "outputs": [
        {
          "output_type": "stream",
          "name": "stdout",
          "text": [
            "Random Forest - MSE: 0.1123155136109876, R2: 0.9837798868860861\n"
          ]
        }
      ]
    },
    {
      "cell_type": "markdown",
      "source": [
        "**Residual Plot**"
      ],
      "metadata": {
        "id": "9t3qzWprWjFT"
      }
    },
    {
      "cell_type": "code",
      "source": [
        "# Residual plot\n",
        "plt.figure(figsize=(12, 6))\n",
        "plt.scatter(y_svr_pred,(y_svr_pred - y_test), c='orange', marker='s', label='Test data')\n",
        "plt.xlabel('Predicted values')\n",
        "plt.ylabel('Residuals')\n",
        "plt.legend(loc='upper left')\n",
        "plt.hlines(y=0, xmin=y_svr_pred.min(), xmax=y_svr_pred.max(), color='red')\n",
        "plt.title('Residual Plot')\n",
        "plt.show()"
      ],
      "metadata": {
        "colab": {
          "base_uri": "https://localhost:8080/",
          "height": 417
        },
        "id": "lFqvR0brWibV",
        "outputId": "743b1fd2-4b2a-44e3-990a-df664939705d"
      },
      "execution_count": 101,
      "outputs": [
        {
          "output_type": "display_data",
          "data": {
            "text/plain": [
              "<Figure size 1200x600 with 1 Axes>"
            ],
            "image/png": "[encoded data removed]"
          },
          "metadata": {}
        }
      ]
    },
    {
      "cell_type": "markdown",
      "source": [
        "**Predicted vs Actual plot**"
      ],
      "metadata": {
        "id": "4YzJyndqW3yE"
      }
    },
    {
      "cell_type": "code",
      "source": [
        "# Predicted vs Actual plot\n",
        "plt.figure(figsize=(12, 6))\n",
        "plt.scatter(y_test, y_svr_pred, c='orange', marker='s', label='Test data')\n",
        "plt.xlabel('Actual values')\n",
        "plt.ylabel('Predicted values')\n",
        "plt.legend(loc='upper left')\n",
        "plt.plot([y.min(), y.max()], [y.min(), y.max()], color='red')\n",
        "plt.title('Predicted vs Actual Plot')\n",
        "plt.show()"
      ],
      "metadata": {
        "colab": {
          "base_uri": "https://localhost:8080/",
          "height": 422
        },
        "id": "MatjGskXWiZD",
        "outputId": "ddbd0ea5-89b5-40f1-cc86-e94248f7cef1"
      },
      "execution_count": 102,
      "outputs": [
        {
          "output_type": "display_data",
          "data": {
            "text/plain": [
              "<Figure size 1200x600 with 1 Axes>"
            ],
            "image/png": "[encoded data removed]"
          },
          "metadata": {}
        }
      ]
    },
    {
      "cell_type": "markdown",
      "source": [
        "# **LSTM**"
      ],
      "metadata": {
        "id": "OQQ0A5upQNvD"
      }
    },
    {
      "cell_type": "code",
      "source": [
        "# Split the data into training and testing sets\n",
        "scaler = StandardScaler()\n",
        "scaled_data=scaler.fit_transform(data)\n",
        "train_size = int(len(scaled_data) * 0.8)\n",
        "train_data, test_data = scaled_data[:train_size], scaled_data[train_size:]"
      ],
      "metadata": {
        "id": "ZphTOlNTLpGi"
      },
      "execution_count": 103,
      "outputs": []
    },
    {
      "cell_type": "code",
      "source": [
        "# Reshape the data to fit the LSTM model requirements\n",
        "def create_dataset(dataset, look_back=1):\n",
        "    X, Y = [], []\n",
        "    for i in range(len(dataset) - look_back - 1):\n",
        "        a = dataset[i:(i + look_back), :]\n",
        "        X.append(a)\n",
        "        Y.append(dataset[i + look_back, 3])  # 'Sales' is the target variable\n",
        "    return np.array(X), np.array(Y)"
      ],
      "metadata": {
        "id": "DLx9sFH1Lrna"
      },
      "execution_count": 104,
      "outputs": []
    },
    {
      "cell_type": "code",
      "source": [
        "look_back =  3\n",
        "lstm_X_train, lstm_y_train = create_dataset(train_data, look_back)\n",
        "lstm_X_test, lstm_y_test = create_dataset(test_data, look_back)"
      ],
      "metadata": {
        "id": "a0GVXhcfLuDM"
      },
      "execution_count": 105,
      "outputs": []
    },
    {
      "cell_type": "code",
      "source": [
        "# Build the LSTM model\n",
        "model = Sequential()\n",
        "model.add(LSTM(100, input_shape=(look_back, len(data.columns))))\n",
        "model.add(Dense(1))\n",
        "model.compile(optimizer='adam', loss='mean_squared_error')"
      ],
      "metadata": {
        "id": "HTHc5QNTLv6r"
      },
      "execution_count": 106,
      "outputs": []
    },
    {
      "cell_type": "code",
      "source": [
        "# Train the model\n",
        "model.fit(lstm_X_train, lstm_y_train, epochs=150, batch_size=1, verbose=2)"
      ],
      "metadata": {
        "colab": {
          "base_uri": "https://localhost:8080/"
        },
        "id": "rPzkjVdHLz98",
        "outputId": "16600ce6-f04a-4257-90aa-b0f21d852738"
      },
      "execution_count": 107,
      "outputs": [
        {
          "output_type": "stream",
          "name": "stdout",
          "text": [
            "Epoch 1/150\n",
            "154/154 - 2s - loss: 1.0280 - 2s/epoch - 16ms/step\n",
            "Epoch 2/150\n",
            "154/154 - 1s - loss: 0.9733 - 563ms/epoch - 4ms/step\n",
            "Epoch 3/150\n",
            "154/154 - 1s - loss: 0.9540 - 557ms/epoch - 4ms/step\n",
            "Epoch 4/150\n",
            "154/154 - 1s - loss: 0.9452 - 555ms/epoch - 4ms/step\n",
            "Epoch 5/150\n",
            "154/154 - 1s - loss: 0.9129 - 569ms/epoch - 4ms/step\n",
            "Epoch 6/150\n",
            "154/154 - 1s - loss: 0.8893 - 548ms/epoch - 4ms/step\n",
            "Epoch 7/150\n",
            "154/154 - 1s - loss: 0.8718 - 582ms/epoch - 4ms/step\n",
            "Epoch 8/150\n",
            "154/154 - 1s - loss: 0.8505 - 567ms/epoch - 4ms/step\n",
            "Epoch 9/150\n",
            "154/154 - 1s - loss: 0.8325 - 560ms/epoch - 4ms/step\n",
            "Epoch 10/150\n",
            "154/154 - 1s - loss: 0.8204 - 565ms/epoch - 4ms/step\n",
            "Epoch 11/150\n",
            "154/154 - 1s - loss: 0.7963 - 587ms/epoch - 4ms/step\n",
            "Epoch 12/150\n",
            "154/154 - 1s - loss: 0.7868 - 599ms/epoch - 4ms/step\n",
            "Epoch 13/150\n",
            "154/154 - 1s - loss: 0.7518 - 704ms/epoch - 5ms/step\n",
            "Epoch 14/150\n",
            "154/154 - 1s - loss: 0.7417 - 996ms/epoch - 6ms/step\n",
            "Epoch 15/150\n",
            "154/154 - 1s - loss: 0.7066 - 950ms/epoch - 6ms/step\n",
            "Epoch 16/150\n",
            "154/154 - 1s - loss: 0.6850 - 979ms/epoch - 6ms/step\n",
            "Epoch 17/150\n",
            "154/154 - 1s - loss: 0.6373 - 861ms/epoch - 6ms/step\n",
            "Epoch 18/150\n",
            "154/154 - 1s - loss: 0.6252 - 569ms/epoch - 4ms/step\n",
            "Epoch 19/150\n",
            "154/154 - 1s - loss: 0.5766 - 579ms/epoch - 4ms/step\n",
            "Epoch 20/150\n",
            "154/154 - 1s - loss: 0.5419 - 567ms/epoch - 4ms/step\n",
            "Epoch 21/150\n",
            "154/154 - 1s - loss: 0.4988 - 561ms/epoch - 4ms/step\n",
            "Epoch 22/150\n",
            "154/154 - 1s - loss: 0.4760 - 570ms/epoch - 4ms/step\n",
            "Epoch 23/150\n",
            "154/154 - 1s - loss: 0.4363 - 562ms/epoch - 4ms/step\n",
            "Epoch 24/150\n",
            "154/154 - 1s - loss: 0.4078 - 575ms/epoch - 4ms/step\n",
            "Epoch 25/150\n",
            "154/154 - 1s - loss: 0.3899 - 554ms/epoch - 4ms/step\n",
            "Epoch 26/150\n",
            "154/154 - 1s - loss: 0.3391 - 566ms/epoch - 4ms/step\n",
            "Epoch 27/150\n",
            "154/154 - 1s - loss: 0.3277 - 587ms/epoch - 4ms/step\n",
            "Epoch 28/150\n",
            "154/154 - 1s - loss: 0.2915 - 593ms/epoch - 4ms/step\n",
            "Epoch 29/150\n",
            "154/154 - 1s - loss: 0.2592 - 575ms/epoch - 4ms/step\n",
            "Epoch 30/150\n",
            "154/154 - 1s - loss: 0.2422 - 574ms/epoch - 4ms/step\n",
            "Epoch 31/150\n",
            "154/154 - 1s - loss: 0.2246 - 578ms/epoch - 4ms/step\n",
            "Epoch 32/150\n",
            "154/154 - 1s - loss: 0.2017 - 565ms/epoch - 4ms/step\n",
            "Epoch 33/150\n",
            "154/154 - 1s - loss: 0.1779 - 580ms/epoch - 4ms/step\n",
            "Epoch 34/150\n",
            "154/154 - 1s - loss: 0.1616 - 582ms/epoch - 4ms/step\n",
            "Epoch 35/150\n",
            "154/154 - 1s - loss: 0.1477 - 906ms/epoch - 6ms/step\n",
            "Epoch 36/150\n",
            "154/154 - 1s - loss: 0.1253 - 965ms/epoch - 6ms/step\n",
            "Epoch 37/150\n",
            "154/154 - 1s - loss: 0.1155 - 967ms/epoch - 6ms/step\n",
            "Epoch 38/150\n",
            "154/154 - 1s - loss: 0.1058 - 998ms/epoch - 6ms/step\n",
            "Epoch 39/150\n",
            "154/154 - 1s - loss: 0.0902 - 561ms/epoch - 4ms/step\n",
            "Epoch 40/150\n",
            "154/154 - 1s - loss: 0.0856 - 539ms/epoch - 4ms/step\n",
            "Epoch 41/150\n",
            "154/154 - 1s - loss: 0.0689 - 578ms/epoch - 4ms/step\n",
            "Epoch 42/150\n",
            "154/154 - 1s - loss: 0.0694 - 561ms/epoch - 4ms/step\n",
            "Epoch 43/150\n",
            "154/154 - 1s - loss: 0.0559 - 590ms/epoch - 4ms/step\n",
            "Epoch 44/150\n",
            "154/154 - 1s - loss: 0.0474 - 547ms/epoch - 4ms/step\n",
            "Epoch 45/150\n",
            "154/154 - 1s - loss: 0.0439 - 563ms/epoch - 4ms/step\n",
            "Epoch 46/150\n",
            "154/154 - 1s - loss: 0.0414 - 547ms/epoch - 4ms/step\n",
            "Epoch 47/150\n",
            "154/154 - 1s - loss: 0.0345 - 582ms/epoch - 4ms/step\n",
            "Epoch 48/150\n",
            "154/154 - 1s - loss: 0.0351 - 562ms/epoch - 4ms/step\n",
            "Epoch 49/150\n",
            "154/154 - 1s - loss: 0.0287 - 572ms/epoch - 4ms/step\n",
            "Epoch 50/150\n",
            "154/154 - 1s - loss: 0.0351 - 586ms/epoch - 4ms/step\n",
            "Epoch 51/150\n",
            "154/154 - 1s - loss: 0.0255 - 565ms/epoch - 4ms/step\n",
            "Epoch 52/150\n",
            "154/154 - 1s - loss: 0.0296 - 587ms/epoch - 4ms/step\n",
            "Epoch 53/150\n",
            "154/154 - 1s - loss: 0.0260 - 602ms/epoch - 4ms/step\n",
            "Epoch 54/150\n",
            "154/154 - 1s - loss: 0.0314 - 640ms/epoch - 4ms/step\n",
            "Epoch 55/150\n",
            "154/154 - 1s - loss: 0.0279 - 574ms/epoch - 4ms/step\n",
            "Epoch 56/150\n",
            "154/154 - 1s - loss: 0.0247 - 803ms/epoch - 5ms/step\n",
            "Epoch 57/150\n",
            "154/154 - 1s - loss: 0.0250 - 977ms/epoch - 6ms/step\n",
            "Epoch 58/150\n",
            "154/154 - 1s - loss: 0.0219 - 924ms/epoch - 6ms/step\n",
            "Epoch 59/150\n",
            "154/154 - 1s - loss: 0.0204 - 993ms/epoch - 6ms/step\n",
            "Epoch 60/150\n",
            "154/154 - 1s - loss: 0.0142 - 741ms/epoch - 5ms/step\n",
            "Epoch 61/150\n",
            "154/154 - 1s - loss: 0.0164 - 575ms/epoch - 4ms/step\n",
            "Epoch 62/150\n",
            "154/154 - 1s - loss: 0.0158 - 564ms/epoch - 4ms/step\n",
            "Epoch 63/150\n",
            "154/154 - 1s - loss: 0.0165 - 561ms/epoch - 4ms/step\n",
            "Epoch 64/150\n",
            "154/154 - 1s - loss: 0.0164 - 576ms/epoch - 4ms/step\n",
            "Epoch 65/150\n",
            "154/154 - 1s - loss: 0.0209 - 573ms/epoch - 4ms/step\n",
            "Epoch 66/150\n",
            "154/154 - 1s - loss: 0.0167 - 536ms/epoch - 3ms/step\n",
            "Epoch 67/150\n",
            "154/154 - 1s - loss: 0.0169 - 568ms/epoch - 4ms/step\n",
            "Epoch 68/150\n",
            "154/154 - 1s - loss: 0.0173 - 558ms/epoch - 4ms/step\n",
            "Epoch 69/150\n",
            "154/154 - 1s - loss: 0.0220 - 565ms/epoch - 4ms/step\n",
            "Epoch 70/150\n",
            "154/154 - 1s - loss: 0.0239 - 550ms/epoch - 4ms/step\n",
            "Epoch 71/150\n",
            "154/154 - 1s - loss: 0.0165 - 584ms/epoch - 4ms/step\n",
            "Epoch 72/150\n",
            "154/154 - 1s - loss: 0.0123 - 541ms/epoch - 4ms/step\n",
            "Epoch 73/150\n",
            "154/154 - 1s - loss: 0.0100 - 548ms/epoch - 4ms/step\n",
            "Epoch 74/150\n",
            "154/154 - 1s - loss: 0.0131 - 571ms/epoch - 4ms/step\n",
            "Epoch 75/150\n",
            "154/154 - 1s - loss: 0.0134 - 592ms/epoch - 4ms/step\n",
            "Epoch 76/150\n",
            "154/154 - 1s - loss: 0.0164 - 565ms/epoch - 4ms/step\n",
            "Epoch 77/150\n",
            "154/154 - 1s - loss: 0.0116 - 557ms/epoch - 4ms/step\n",
            "Epoch 78/150\n",
            "154/154 - 1s - loss: 0.0148 - 918ms/epoch - 6ms/step\n",
            "Epoch 79/150\n",
            "154/154 - 1s - loss: 0.0099 - 945ms/epoch - 6ms/step\n",
            "Epoch 80/150\n",
            "154/154 - 1s - loss: 0.0109 - 943ms/epoch - 6ms/step\n",
            "Epoch 81/150\n",
            "154/154 - 1s - loss: 0.0140 - 753ms/epoch - 5ms/step\n",
            "Epoch 82/150\n",
            "154/154 - 1s - loss: 0.0194 - 566ms/epoch - 4ms/step\n",
            "Epoch 83/150\n",
            "154/154 - 1s - loss: 0.0176 - 560ms/epoch - 4ms/step\n",
            "Epoch 84/150\n",
            "154/154 - 1s - loss: 0.0141 - 564ms/epoch - 4ms/step\n",
            "Epoch 85/150\n",
            "154/154 - 1s - loss: 0.0327 - 551ms/epoch - 4ms/step\n",
            "Epoch 86/150\n",
            "154/154 - 1s - loss: 0.0135 - 548ms/epoch - 4ms/step\n",
            "Epoch 87/150\n",
            "154/154 - 1s - loss: 0.0082 - 563ms/epoch - 4ms/step\n",
            "Epoch 88/150\n",
            "154/154 - 1s - loss: 0.0061 - 536ms/epoch - 3ms/step\n",
            "Epoch 89/150\n",
            "154/154 - 1s - loss: 0.0061 - 577ms/epoch - 4ms/step\n",
            "Epoch 90/150\n",
            "154/154 - 1s - loss: 0.0087 - 584ms/epoch - 4ms/step\n",
            "Epoch 91/150\n",
            "154/154 - 1s - loss: 0.0099 - 567ms/epoch - 4ms/step\n",
            "Epoch 92/150\n",
            "154/154 - 1s - loss: 0.0098 - 543ms/epoch - 4ms/step\n",
            "Epoch 93/150\n",
            "154/154 - 1s - loss: 0.0109 - 547ms/epoch - 4ms/step\n",
            "Epoch 94/150\n",
            "154/154 - 1s - loss: 0.0131 - 590ms/epoch - 4ms/step\n",
            "Epoch 95/150\n",
            "154/154 - 1s - loss: 0.0206 - 574ms/epoch - 4ms/step\n",
            "Epoch 96/150\n",
            "154/154 - 1s - loss: 0.0225 - 565ms/epoch - 4ms/step\n",
            "Epoch 97/150\n",
            "154/154 - 1s - loss: 0.0135 - 548ms/epoch - 4ms/step\n",
            "Epoch 98/150\n",
            "154/154 - 1s - loss: 0.0115 - 663ms/epoch - 4ms/step\n",
            "Epoch 99/150\n",
            "154/154 - 2s - loss: 0.0079 - 2s/epoch - 13ms/step\n",
            "Epoch 100/150\n",
            "154/154 - 1s - loss: 0.0073 - 1s/epoch - 9ms/step\n",
            "Epoch 101/150\n",
            "154/154 - 1s - loss: 0.0076 - 826ms/epoch - 5ms/step\n",
            "Epoch 102/150\n",
            "154/154 - 1s - loss: 0.0068 - 544ms/epoch - 4ms/step\n",
            "Epoch 103/150\n",
            "154/154 - 1s - loss: 0.0065 - 557ms/epoch - 4ms/step\n",
            "Epoch 104/150\n",
            "154/154 - 1s - loss: 0.0155 - 573ms/epoch - 4ms/step\n",
            "Epoch 105/150\n",
            "154/154 - 1s - loss: 0.0194 - 550ms/epoch - 4ms/step\n",
            "Epoch 106/150\n",
            "154/154 - 1s - loss: 0.0191 - 581ms/epoch - 4ms/step\n",
            "Epoch 107/150\n",
            "154/154 - 1s - loss: 0.0124 - 555ms/epoch - 4ms/step\n",
            "Epoch 108/150\n",
            "154/154 - 1s - loss: 0.0103 - 557ms/epoch - 4ms/step\n",
            "Epoch 109/150\n",
            "154/154 - 1s - loss: 0.0075 - 560ms/epoch - 4ms/step\n",
            "Epoch 110/150\n",
            "154/154 - 1s - loss: 0.0061 - 577ms/epoch - 4ms/step\n",
            "Epoch 111/150\n",
            "154/154 - 1s - loss: 0.0049 - 551ms/epoch - 4ms/step\n",
            "Epoch 112/150\n",
            "154/154 - 1s - loss: 0.0054 - 579ms/epoch - 4ms/step\n",
            "Epoch 113/150\n",
            "154/154 - 1s - loss: 0.0055 - 531ms/epoch - 3ms/step\n",
            "Epoch 114/150\n",
            "154/154 - 1s - loss: 0.0150 - 557ms/epoch - 4ms/step\n",
            "Epoch 115/150\n",
            "154/154 - 1s - loss: 0.0153 - 567ms/epoch - 4ms/step\n",
            "Epoch 116/150\n",
            "154/154 - 1s - loss: 0.0182 - 553ms/epoch - 4ms/step\n",
            "Epoch 117/150\n",
            "154/154 - 1s - loss: 0.0131 - 554ms/epoch - 4ms/step\n",
            "Epoch 118/150\n",
            "154/154 - 1s - loss: 0.0133 - 527ms/epoch - 3ms/step\n",
            "Epoch 119/150\n",
            "154/154 - 1s - loss: 0.0094 - 761ms/epoch - 5ms/step\n",
            "Epoch 120/150\n",
            "154/154 - 1s - loss: 0.0064 - 969ms/epoch - 6ms/step\n",
            "Epoch 121/150\n",
            "154/154 - 1s - loss: 0.0077 - 975ms/epoch - 6ms/step\n",
            "Epoch 122/150\n",
            "154/154 - 1s - loss: 0.0096 - 863ms/epoch - 6ms/step\n",
            "Epoch 123/150\n",
            "154/154 - 1s - loss: 0.0093 - 561ms/epoch - 4ms/step\n",
            "Epoch 124/150\n",
            "154/154 - 1s - loss: 0.0054 - 587ms/epoch - 4ms/step\n",
            "Epoch 125/150\n",
            "154/154 - 1s - loss: 0.0085 - 564ms/epoch - 4ms/step\n",
            "Epoch 126/150\n",
            "154/154 - 1s - loss: 0.0085 - 561ms/epoch - 4ms/step\n",
            "Epoch 127/150\n",
            "154/154 - 1s - loss: 0.0106 - 554ms/epoch - 4ms/step\n",
            "Epoch 128/150\n",
            "154/154 - 1s - loss: 0.0114 - 600ms/epoch - 4ms/step\n",
            "Epoch 129/150\n",
            "154/154 - 1s - loss: 0.0114 - 554ms/epoch - 4ms/step\n",
            "Epoch 130/150\n",
            "154/154 - 1s - loss: 0.0115 - 558ms/epoch - 4ms/step\n",
            "Epoch 131/150\n",
            "154/154 - 1s - loss: 0.0080 - 535ms/epoch - 3ms/step\n",
            "Epoch 132/150\n",
            "154/154 - 1s - loss: 0.0061 - 560ms/epoch - 4ms/step\n",
            "Epoch 133/150\n",
            "154/154 - 1s - loss: 0.0068 - 545ms/epoch - 4ms/step\n",
            "Epoch 134/150\n",
            "154/154 - 1s - loss: 0.0060 - 546ms/epoch - 4ms/step\n",
            "Epoch 135/150\n",
            "154/154 - 1s - loss: 0.0066 - 576ms/epoch - 4ms/step\n",
            "Epoch 136/150\n",
            "154/154 - 1s - loss: 0.0068 - 583ms/epoch - 4ms/step\n",
            "Epoch 137/150\n",
            "154/154 - 1s - loss: 0.0076 - 592ms/epoch - 4ms/step\n",
            "Epoch 138/150\n",
            "154/154 - 1s - loss: 0.0078 - 534ms/epoch - 3ms/step\n",
            "Epoch 139/150\n",
            "154/154 - 1s - loss: 0.0073 - 551ms/epoch - 4ms/step\n",
            "Epoch 140/150\n",
            "154/154 - 1s - loss: 0.0071 - 805ms/epoch - 5ms/step\n",
            "Epoch 141/150\n",
            "154/154 - 1s - loss: 0.0090 - 952ms/epoch - 6ms/step\n",
            "Epoch 142/150\n",
            "154/154 - 1s - loss: 0.0112 - 948ms/epoch - 6ms/step\n",
            "Epoch 143/150\n",
            "154/154 - 1s - loss: 0.0085 - 973ms/epoch - 6ms/step\n",
            "Epoch 144/150\n",
            "154/154 - 1s - loss: 0.0103 - 718ms/epoch - 5ms/step\n",
            "Epoch 145/150\n",
            "154/154 - 1s - loss: 0.0099 - 620ms/epoch - 4ms/step\n",
            "Epoch 146/150\n",
            "154/154 - 1s - loss: 0.0063 - 770ms/epoch - 5ms/step\n",
            "Epoch 147/150\n",
            "154/154 - 1s - loss: 0.0046 - 901ms/epoch - 6ms/step\n",
            "Epoch 148/150\n",
            "154/154 - 1s - loss: 0.0049 - 1s/epoch - 7ms/step\n",
            "Epoch 149/150\n",
            "154/154 - 1s - loss: 0.0055 - 925ms/epoch - 6ms/step\n",
            "Epoch 150/150\n",
            "154/154 - 1s - loss: 0.0078 - 1s/epoch - 7ms/step\n"
          ]
        },
        {
          "output_type": "execute_result",
          "data": {
            "text/plain": [
              "<keras.src.callbacks.History at 0x7d1999faf400>"
            ]
          },
          "metadata": {},
          "execution_count": 107
        }
      ]
    },
    {
      "cell_type": "code",
      "source": [
        "# Make predictions\n",
        "y_lstm_pred = model.predict(lstm_X_test)"
      ],
      "metadata": {
        "colab": {
          "base_uri": "https://localhost:8080/"
        },
        "id": "9J3dr6yiL15L",
        "outputId": "5055d859-524a-4370-a652-c12e7df921b4"
      },
      "execution_count": 108,
      "outputs": [
        {
          "output_type": "stream",
          "name": "stdout",
          "text": [
            "2/2 [==============================] - 1s 10ms/step\n"
          ]
        }
      ]
    },
    {
      "cell_type": "code",
      "source": [
        "y_lstm_pred"
      ],
      "metadata": {
        "colab": {
          "base_uri": "https://localhost:8080/"
        },
        "id": "nTu_skR4XiCl",
        "outputId": "ad782acd-35a3-4709-b61b-7416904237b0"
      },
      "execution_count": 109,
      "outputs": [
        {
          "output_type": "execute_result",
          "data": {
            "text/plain": [
              "array([[-0.7872331 ],\n",
              "       [ 1.4308202 ],\n",
              "       [-0.09012579],\n",
              "       [ 0.8973425 ],\n",
              "       [ 0.60612804],\n",
              "       [-0.29297534],\n",
              "       [ 0.30287746],\n",
              "       [-0.41496053],\n",
              "       [-0.30728143],\n",
              "       [-0.06681036],\n",
              "       [-0.05834116],\n",
              "       [-0.28226173],\n",
              "       [ 1.1527016 ],\n",
              "       [-0.26775473],\n",
              "       [-0.8389327 ],\n",
              "       [-0.1750356 ],\n",
              "       [-1.2607689 ],\n",
              "       [-0.6959658 ],\n",
              "       [ 0.10414498],\n",
              "       [-0.17699307],\n",
              "       [-0.6592449 ],\n",
              "       [ 1.0765653 ],\n",
              "       [-1.0382617 ],\n",
              "       [-0.38155574],\n",
              "       [-0.49469516],\n",
              "       [-0.12787655],\n",
              "       [-0.73105866],\n",
              "       [ 0.5005    ],\n",
              "       [ 0.7080319 ],\n",
              "       [ 1.1804266 ],\n",
              "       [ 1.0064578 ],\n",
              "       [ 1.8195244 ],\n",
              "       [ 1.3899323 ],\n",
              "       [ 0.9019415 ],\n",
              "       [ 0.91990215],\n",
              "       [ 0.4253695 ]], dtype=float32)"
            ]
          },
          "metadata": {},
          "execution_count": 109
        }
      ]
    },
    {
      "cell_type": "code",
      "source": [
        "lstm_y_test = lstm_y_test.reshape(-1,1)"
      ],
      "metadata": {
        "id": "YY-XPXttY5Tk"
      },
      "execution_count": 110,
      "outputs": []
    },
    {
      "cell_type": "code",
      "source": [
        "# Calculate evaluation metrics\n",
        "lstm_mse = mean_squared_error(lstm_y_test, y_lstm_pred)\n",
        "lstm_rmse = np.sqrt(lstm_mse)\n",
        "lstm_r2 = r2_score(lstm_y_test, y_lstm_pred)\n"
      ],
      "metadata": {
        "id": "IPz3J5qXODFM"
      },
      "execution_count": 111,
      "outputs": []
    },
    {
      "cell_type": "code",
      "source": [
        "print(f'Train MSE: {lstm_mse:.2f}')\n",
        "print(f'Train RMSE: {lstm_rmse:.2f}')\n",
        "print(f'Train R2: {lstm_r2:.2f}')"
      ],
      "metadata": {
        "colab": {
          "base_uri": "https://localhost:8080/"
        },
        "id": "kILzqBV1Nvia",
        "outputId": "2b60c88c-6d38-41e3-c1cc-1947dc90ac1f"
      },
      "execution_count": 112,
      "outputs": [
        {
          "output_type": "stream",
          "name": "stdout",
          "text": [
            "Train MSE: 2.06\n",
            "Train RMSE: 1.43\n",
            "Train R2: -1.18\n"
          ]
        }
      ]
    },
    {
      "cell_type": "markdown",
      "source": [
        "**Residual Plot**"
      ],
      "metadata": {
        "id": "LYf1VsNGZG7c"
      }
    },
    {
      "cell_type": "code",
      "source": [
        "# Residual plot\n",
        "plt.figure(figsize=(12, 6))\n",
        "plt.scatter(y_lstm_pred,(y_lstm_pred - lstm_y_test), c='orange', marker='s', label='Test data')\n",
        "plt.xlabel('Predicted values')\n",
        "plt.ylabel('Residuals')\n",
        "plt.legend(loc='upper left')\n",
        "plt.hlines(y=0, xmin=y_lstm_pred.min(), xmax=y_lstm_pred.max(), color='red')\n",
        "plt.title('Residual Plot')\n",
        "plt.show()"
      ],
      "metadata": {
        "colab": {
          "base_uri": "https://localhost:8080/",
          "height": 422
        },
        "id": "LeAlvnRaXEhM",
        "outputId": "332447d3-4598-45a3-dd00-f962b44ad7a8"
      },
      "execution_count": 113,
      "outputs": [
        {
          "output_type": "display_data",
          "data": {
            "text/plain": [
              "<Figure size 1200x600 with 1 Axes>"
            ],
            "image/png": "[encoded data removed]"
          },
          "metadata": {}
        }
      ]
    },
    {
      "cell_type": "markdown",
      "source": [
        "**Predicted vs Actual plot**"
      ],
      "metadata": {
        "id": "oMNFMBjHZ7i-"
      }
    },
    {
      "cell_type": "code",
      "source": [
        "# Predicted vs Actual plot\n",
        "plt.figure(figsize=(12, 6))\n",
        "plt.scatter(lstm_y_test, y_lstm_pred, c='orange', marker='s', label='Test data')\n",
        "plt.xlabel('Actual values')\n",
        "plt.ylabel('Predicted values')\n",
        "plt.legend(loc='upper left')\n",
        "plt.plot([y.min(), y.max()], [y.min(), y.max()], color='red')\n",
        "plt.title('Predicted vs Actual Plot')\n",
        "plt.show()"
      ],
      "metadata": {
        "colab": {
          "base_uri": "https://localhost:8080/",
          "height": 422
        },
        "id": "Bm88Lv_yZ3s3",
        "outputId": "eed586c6-e5db-4b50-9e39-005fbb61a310"
      },
      "execution_count": 114,
      "outputs": [
        {
          "output_type": "display_data",
          "data": {
            "text/plain": [
              "<Figure size 1200x600 with 1 Axes>"
            ],
            "image/png": "[encoded data removed]"
          },
          "metadata": {}
        }
      ]
    },
    {
      "cell_type": "markdown",
      "source": [
        "**Comaprison of Models**"
      ],
      "metadata": {
        "id": "wZn3ieXGaBv0"
      }
    },
    {
      "cell_type": "code",
      "source": [
        "\n",
        "# Create a dictionary to store model names and their MSE values\n",
        "models_r2 = {\n",
        "    \"Linear Regression\": r2_lr,\n",
        "    \"Decision Tree\": r2_dt,\n",
        "    \"Random Forest\": r2_rf,\n",
        "    \"LSTM\" : lstm_r2,\n",
        "    \"SVR\": r2_svr\n",
        "}\n",
        "\n",
        "# Sort models by descending order of accuracy\n",
        "sorted_models_r2 = dict(sorted(models_r2.items(), key=lambda item: item[1],reverse = True))\n",
        "\n",
        "# Plot the comparison\n",
        "plt.figure(figsize=(10, 6))\n",
        "plt.bar(sorted_models_r2.keys(), sorted_models_r2.values())\n",
        "plt.title('Comparison of Regression Models')\n",
        "plt.xlabel('Model')\n",
        "plt.ylabel('R2 Score')\n",
        "plt.xticks(rotation=45)\n",
        "plt.show()\n"
      ],
      "metadata": {
        "colab": {
          "base_uri": "https://localhost:8080/",
          "height": 561
        },
        "id": "iSlfBav7nSW7",
        "outputId": "e29efda7-79f4-40d6-f7eb-105af5a17146"
      },
      "execution_count": 115,
      "outputs": [
        {
          "output_type": "display_data",
          "data": {
            "text/plain": [
              "<Figure size 1000x600 with 1 Axes>"
            ],
            "image/png": "[encoded data removed]"
          },
          "metadata": {}
        }
      ]
    },
    {
      "cell_type": "markdown",
      "source": [
        "## **NEW PREDICTIONS WITH RANDOM FORESR REGRESSOR**\n",
        "\n",
        "\n",
        "\n"
      ],
      "metadata": {
        "id": "NvZeqHqbmJ3x"
      }
    },
    {
      "cell_type": "markdown",
      "source": [
        "**Testing for New Inputs**"
      ],
      "metadata": {
        "id": "WvYRHPVemPUZ"
      }
    },
    {
      "cell_type": "code",
      "source": [
        "data.info()"
      ],
      "metadata": {
        "colab": {
          "base_uri": "https://localhost:8080/"
        },
        "id": "x_queBhZoXVR",
        "outputId": "1699c067-9f5f-4c0e-f92a-041a7f85bf3d"
      },
      "execution_count": 116,
      "outputs": [
        {
          "output_type": "stream",
          "name": "stdout",
          "text": [
            "<class 'pandas.core.frame.DataFrame'>\n",
            "Index: 198 entries, 0 to 199\n",
            "Data columns (total 5 columns):\n",
            " #   Column      Non-Null Count  Dtype  \n",
            "---  ------      --------------  -----  \n",
            " 0   Unnamed: 0  198 non-null    int64  \n",
            " 1   TV          198 non-null    float64\n",
            " 2   Radio       198 non-null    float64\n",
            " 3   Newspaper   198 non-null    float64\n",
            " 4   Sales       198 non-null    float64\n",
            "dtypes: float64(4), int64(1)\n",
            "memory usage: 9.3 KB\n"
          ]
        }
      ]
    },
    {
      "cell_type": "code",
      "source": [
        "import numpy as np\n",
        "\n",
        "# Given inputs\n",
        "#inputs = np.array([TV, Radio, NewsPaper])\n",
        "inputs = np.array([155,50,85])\n"
      ],
      "metadata": {
        "id": "2kfDPKzepgsC"
      },
      "execution_count": 117,
      "outputs": []
    },
    {
      "cell_type": "code",
      "source": [
        "new_inputs = scalerx.transform(inputs.reshape(1, -1))"
      ],
      "metadata": {
        "colab": {
          "base_uri": "https://localhost:8080/"
        },
        "id": "V_paDbN1pnQB",
        "outputId": "3891cf79-10e4-4b09-817d-636b9a8a38de"
      },
      "execution_count": 118,
      "outputs": [
        {
          "output_type": "stream",
          "name": "stderr",
          "text": [
            "/usr/local/lib/python3.10/dist-packages/sklearn/base.py:439: UserWarning: X does not have valid feature names, but StandardScaler was fitted with feature names\n",
            "  warnings.warn(\n"
          ]
        }
      ]
    },
    {
      "cell_type": "markdown",
      "source": [
        "**Prediction**"
      ],
      "metadata": {
        "id": "UXzeuVOc6co_"
      }
    },
    {
      "cell_type": "code",
      "source": [
        "new_pred = random_model.predict(new_inputs).reshape(-1,1)"
      ],
      "metadata": {
        "id": "pHf9TNPs9pkC"
      },
      "execution_count": 119,
      "outputs": []
    },
    {
      "cell_type": "code",
      "source": [
        "n_pred = scalery.inverse_transform(new_pred)"
      ],
      "metadata": {
        "id": "4xScOS5k90yg"
      },
      "execution_count": 120,
      "outputs": []
    },
    {
      "cell_type": "code",
      "source": [
        "print(\"Sales Prediction : \", n_pred[0][0] )"
      ],
      "metadata": {
        "colab": {
          "base_uri": "https://localhost:8080/"
        },
        "id": "R-8sJAvQ-PZ_",
        "outputId": "53c523bc-478f-4e5b-f31c-4970667a8b37"
      },
      "execution_count": 121,
      "outputs": [
        {
          "output_type": "stream",
          "name": "stdout",
          "text": [
            "Sales Prediction :  19.430999999999994\n"
          ]
        }
      ]
    },
    {
      "cell_type": "code",
      "source": [],
      "metadata": {
        "id": "g_AVB3isuzKF"
      },
      "execution_count": 121,
      "outputs": []
    }
  ]
}